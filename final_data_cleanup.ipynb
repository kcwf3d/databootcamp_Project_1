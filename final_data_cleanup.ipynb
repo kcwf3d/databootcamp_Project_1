{
 "metadata": {
  "language_info": {
   "codemirror_mode": {
    "name": "ipython",
    "version": 3
   },
   "file_extension": ".py",
   "mimetype": "text/x-python",
   "name": "python",
   "nbconvert_exporter": "python",
   "pygments_lexer": "ipython3",
   "version": "3.6.10-final"
  },
  "orig_nbformat": 2,
  "kernelspec": {
   "name": "python3",
   "display_name": "Python 3",
   "language": "python"
  }
 },
 "nbformat": 4,
 "nbformat_minor": 2,
 "cells": [
  {
   "cell_type": "code",
   "execution_count": 87,
   "metadata": {},
   "outputs": [],
   "source": [
    "# import libraries\n",
    "import pandas as pd\n",
    "import numpy as np\n",
    "from scipy.stats import linregress\n",
    "import matplotlib.pyplot as plt"
   ]
  },
  {
   "source": [
    "## Cleaning Natural Gas Data"
   ],
   "cell_type": "markdown",
   "metadata": {}
  },
  {
   "cell_type": "code",
   "execution_count": 88,
   "metadata": {},
   "outputs": [],
   "source": [
    "# import raw gas usage data from csv\n",
    "file_path = 'raw_data/10yr_gas_data.csv'\n",
    "df = pd.read_csv(file_path)"
   ]
  },
  {
   "cell_type": "code",
   "execution_count": 89,
   "metadata": {},
   "outputs": [
    {
     "output_type": "execute_result",
     "data": {
      "text/plain": [
       "       Date    State  Natural Gas Consumption (MMcf)\n",
       "0  Jan-2010  Alabama                        9202.647\n",
       "1  Feb-2010  Alabama                        7762.261\n",
       "2  Mar-2010  Alabama                        6612.051\n",
       "3  Apr-2010  Alabama                        2987.217\n",
       "4  May-2010  Alabama                        1142.784"
      ],
      "text/html": "<div>\n<style scoped>\n    .dataframe tbody tr th:only-of-type {\n        vertical-align: middle;\n    }\n\n    .dataframe tbody tr th {\n        vertical-align: top;\n    }\n\n    .dataframe thead th {\n        text-align: right;\n    }\n</style>\n<table border=\"1\" class=\"dataframe\">\n  <thead>\n    <tr style=\"text-align: right;\">\n      <th></th>\n      <th>Date</th>\n      <th>State</th>\n      <th>Natural Gas Consumption (MMcf)</th>\n    </tr>\n  </thead>\n  <tbody>\n    <tr>\n      <th>0</th>\n      <td>Jan-2010</td>\n      <td>Alabama</td>\n      <td>9202.647</td>\n    </tr>\n    <tr>\n      <th>1</th>\n      <td>Feb-2010</td>\n      <td>Alabama</td>\n      <td>7762.261</td>\n    </tr>\n    <tr>\n      <th>2</th>\n      <td>Mar-2010</td>\n      <td>Alabama</td>\n      <td>6612.051</td>\n    </tr>\n    <tr>\n      <th>3</th>\n      <td>Apr-2010</td>\n      <td>Alabama</td>\n      <td>2987.217</td>\n    </tr>\n    <tr>\n      <th>4</th>\n      <td>May-2010</td>\n      <td>Alabama</td>\n      <td>1142.784</td>\n    </tr>\n  </tbody>\n</table>\n</div>"
     },
     "metadata": {},
     "execution_count": 89
    }
   ],
   "source": [
    "# removing individual date columns and adding a new date column that includes all 10 years\n",
    "dates = []\n",
    "states = []\n",
    "values = []\n",
    "\n",
    "# loop through columns of columns (DC is included so there are 51 state columns)\n",
    "for i in range(1,52):\n",
    "\n",
    "   #loop through rows\n",
    "    for j in range(0,132): \n",
    "        date = df.iloc[j,0] # gets date from first column\n",
    "        dates.append(date)  # adds date to dates list\n",
    "\n",
    "        state_str = df.columns[i] # gets column title\n",
    "        state_str = state_str.split(' Natural', 1) #splits the title at the first occurence of the word 'natural'\n",
    "        state = state_str[0] # saves the state name \n",
    "        states.append(state) # adds the state to the states list\n",
    "\n",
    "        value = df.iloc[j,i] # retrieves the value from the current row,value pair\n",
    "        values.append(value) # adds the value to the values list \n",
    "\n",
    "# create data frame to store gas data\n",
    "df_clean = pd.DataFrame({\n",
    "    'Date': dates,\n",
    "    'State': states,\n",
    "    'Natural Gas Consumption (MMcf)':values\n",
    "})\n",
    "\n",
    "df_clean.head()"
   ]
  },
  {
   "cell_type": "code",
   "execution_count": 90,
   "metadata": {},
   "outputs": [],
   "source": [
    "# output clean gas data to csv\n",
    "output_path = 'clean_data/natural_gas_data.csv'\n",
    "df_clean.to_csv(output_path)"
   ]
  },
  {
   "source": [
    "## Cleaning Temperature Data"
   ],
   "cell_type": "markdown",
   "metadata": {}
  },
  {
   "cell_type": "code",
   "execution_count": 91,
   "metadata": {},
   "outputs": [],
   "source": [
    "# read in temp data from csv into dataframe\n",
    "file_path = 'raw_data/all_states_ave_temp.csv'\n",
    "df2 = pd.read_csv(file_path)"
   ]
  },
  {
   "cell_type": "code",
   "execution_count": 92,
   "metadata": {},
   "outputs": [],
   "source": [
    "# drop NaN values from the temp dataframe\n",
    "df2.dropna(how='any', inplace=True)"
   ]
  },
  {
   "cell_type": "code",
   "execution_count": 93,
   "metadata": {},
   "outputs": [
    {
     "output_type": "execute_result",
     "data": {
      "text/plain": [
       "     Date    State  Average Temperature Anomaly\n",
       "0  200001  Alabama                 46.5     1.6\n",
       "1  200002  Alabama                 52.3     2.5\n",
       "2  200003  Alabama                 58.9     2.7\n",
       "3  200004  Alabama                 60.1    -3.8\n",
       "4  200005  Alabama                   74     2.4"
      ],
      "text/html": "<div>\n<style scoped>\n    .dataframe tbody tr th:only-of-type {\n        vertical-align: middle;\n    }\n\n    .dataframe tbody tr th {\n        vertical-align: top;\n    }\n\n    .dataframe thead th {\n        text-align: right;\n    }\n</style>\n<table border=\"1\" class=\"dataframe\">\n  <thead>\n    <tr style=\"text-align: right;\">\n      <th></th>\n      <th>Date</th>\n      <th>State</th>\n      <th>Average Temperature</th>\n      <th>Anomaly</th>\n    </tr>\n  </thead>\n  <tbody>\n    <tr>\n      <th>0</th>\n      <td>200001</td>\n      <td>Alabama</td>\n      <td>46.5</td>\n      <td>1.6</td>\n    </tr>\n    <tr>\n      <th>1</th>\n      <td>200002</td>\n      <td>Alabama</td>\n      <td>52.3</td>\n      <td>2.5</td>\n    </tr>\n    <tr>\n      <th>2</th>\n      <td>200003</td>\n      <td>Alabama</td>\n      <td>58.9</td>\n      <td>2.7</td>\n    </tr>\n    <tr>\n      <th>3</th>\n      <td>200004</td>\n      <td>Alabama</td>\n      <td>60.1</td>\n      <td>-3.8</td>\n    </tr>\n    <tr>\n      <th>4</th>\n      <td>200005</td>\n      <td>Alabama</td>\n      <td>74</td>\n      <td>2.4</td>\n    </tr>\n  </tbody>\n</table>\n</div>"
     },
     "metadata": {},
     "execution_count": 93
    }
   ],
   "source": [
    "# list of columns to rename\n",
    "column_names = {\n",
    "    'Unnamed: 1': 'State', \n",
    "    'Average Temperature': 'Avg Temp (F)',\n",
    "    'Unnamed: 3': 'Anomaly',\n",
    "    'Alabama' : 'Date'\n",
    "    }\n",
    "# renaming columns\n",
    "df2.rename(columns=column_names, inplace=True)\n",
    "#reseting index\n",
    "df2.reset_index(drop=True, inplace=True)\n",
    "# showing results\n",
    "df2.head()"
   ]
  },
  {
   "cell_type": "code",
   "execution_count": 94,
   "metadata": {},
   "outputs": [],
   "source": [
    "# output the clean temp data to csv file\n",
    "output_path = 'clean_data/avg_temp_by_state.csv'\n",
    "df2.to_csv(output_path)"
   ]
  },
  {
   "source": [
    "## Cleaning Population Data"
   ],
   "cell_type": "markdown",
   "metadata": {}
  },
  {
   "cell_type": "code",
   "execution_count": 95,
   "metadata": {},
   "outputs": [],
   "source": [
    "# read pop data from csv\n",
    "pop_file = 'clean_data/10yr_population_data.csv'\n",
    "pop_df = pd.read_csv(pop_file)"
   ]
  },
  {
   "cell_type": "code",
   "execution_count": 96,
   "metadata": {},
   "outputs": [],
   "source": [
    "# drop unnamed index colum that is added\n",
    "pop_df.drop(columns='Unnamed: 0', inplace=True)"
   ]
  },
  {
   "cell_type": "code",
   "execution_count": 97,
   "metadata": {},
   "outputs": [],
   "source": [
    "# loops through and removes '.' from  state string\n",
    "for i in range(0,len(pop_df)):\n",
    "    st_string = pop_df.iloc[i, 0]\n",
    "    st_string = st_string.split(\".\", 2) \n",
    "    pop_df.iloc[i, 0] = st_string[0]"
   ]
  },
  {
   "cell_type": "code",
   "execution_count": 98,
   "metadata": {},
   "outputs": [],
   "source": [
    "# drop DC from population data to match rest of data\n",
    "pop_df.drop(pop_df.loc[pop_df['state'] == 'District of Columbia'].index, inplace=True)"
   ]
  },
  {
   "cell_type": "code",
   "execution_count": 99,
   "metadata": {},
   "outputs": [
    {
     "output_type": "execute_result",
     "data": {
      "text/plain": [
       "        State  Year  Population\n",
       "0     Alabama  2010   4,785,437\n",
       "1      Alaska  2010     713,910\n",
       "2     Arizona  2010   6,407,172\n",
       "3    Arkansas  2010   2,921,964\n",
       "4  California  2010  37,319,502"
      ],
      "text/html": "<div>\n<style scoped>\n    .dataframe tbody tr th:only-of-type {\n        vertical-align: middle;\n    }\n\n    .dataframe tbody tr th {\n        vertical-align: top;\n    }\n\n    .dataframe thead th {\n        text-align: right;\n    }\n</style>\n<table border=\"1\" class=\"dataframe\">\n  <thead>\n    <tr style=\"text-align: right;\">\n      <th></th>\n      <th>State</th>\n      <th>Year</th>\n      <th>Population</th>\n    </tr>\n  </thead>\n  <tbody>\n    <tr>\n      <th>0</th>\n      <td>Alabama</td>\n      <td>2010</td>\n      <td>4,785,437</td>\n    </tr>\n    <tr>\n      <th>1</th>\n      <td>Alaska</td>\n      <td>2010</td>\n      <td>713,910</td>\n    </tr>\n    <tr>\n      <th>2</th>\n      <td>Arizona</td>\n      <td>2010</td>\n      <td>6,407,172</td>\n    </tr>\n    <tr>\n      <th>3</th>\n      <td>Arkansas</td>\n      <td>2010</td>\n      <td>2,921,964</td>\n    </tr>\n    <tr>\n      <th>4</th>\n      <td>California</td>\n      <td>2010</td>\n      <td>37,319,502</td>\n    </tr>\n  </tbody>\n</table>\n</div>"
     },
     "metadata": {},
     "execution_count": 99
    }
   ],
   "source": [
    "# reformat pop data to match the layout of other data (each year was a column, now theres one year column)\n",
    "states = []\n",
    "years = []\n",
    "pops = []\n",
    "\n",
    "# loop through columns (10 years)\n",
    "for i in range(1, 11): \n",
    "    # loop through rows (49 states)\n",
    "    for j in range(0, 50):\n",
    "        state = pop_df.iloc[j,0]\n",
    "        states.append(state)\n",
    "\n",
    "        year = pop_df.columns[i]\n",
    "        years.append(year)\n",
    "\n",
    "        pop = pop_df.iloc[j, i]\n",
    "        pops.append(pop)\n",
    "\n",
    "# create new data frame for reformatted pop data\n",
    "pop_df = pd.DataFrame({\n",
    "    'State': states,\n",
    "    'Year': years,\n",
    "    'Population': pops\n",
    "})\n",
    "\n",
    "pop_df.head()"
   ]
  },
  {
   "cell_type": "code",
   "execution_count": 100,
   "metadata": {},
   "outputs": [],
   "source": [
    "# sort states alphabetically and reset index\n",
    "pop_df.sort_values(by='State', inplace=True)\n",
    "pop_df.reset_index(drop=True, inplace=True)"
   ]
  },
  {
   "cell_type": "code",
   "execution_count": 101,
   "metadata": {},
   "outputs": [],
   "source": [
    "# output the clean temp data to csv file\n",
    "output_path = 'clean_data/pop_data.csv'\n",
    "pop_df.to_csv(output_path)"
   ]
  },
  {
   "source": [
    "## Data Merging and Filtering"
   ],
   "cell_type": "markdown",
   "metadata": {}
  },
  {
   "cell_type": "code",
   "execution_count": 102,
   "metadata": {},
   "outputs": [],
   "source": [
    "# file paths\n",
    "gas_file = 'clean_data/natural_gas_data.csv'\n",
    "weather_file = 'clean_data/avg_temp_by_state.csv'\n",
    "pop_file = 'clean_data/pop_data.csv'\n",
    "\n",
    "# import the files \n",
    "weather_df = pd.read_csv(weather_file)\n",
    "gas_df = pd.read_csv(gas_file)\n",
    "pop_df = pd.read_csv(pop_file)"
   ]
  },
  {
   "cell_type": "code",
   "execution_count": 103,
   "metadata": {},
   "outputs": [],
   "source": [
    "# droping the extra index column that gets added when importing\n",
    "gas_df.drop(columns='Unnamed: 0', inplace=True)\n",
    "weather_df.drop(columns='Unnamed: 0', inplace=True)\n",
    "pop_df.drop(columns='Unnamed: 0', inplace=True)"
   ]
  },
  {
   "cell_type": "code",
   "execution_count": 104,
   "metadata": {},
   "outputs": [],
   "source": [
    "# drop dates before 2010 and after 2019 from weather data\n",
    "weather_df.drop(weather_df.loc[weather_df['Date'] < 201000].index, inplace=True)\n",
    "weather_df.drop(weather_df.loc[weather_df['Date'] >= 202000].index, inplace=True)"
   ]
  },
  {
   "cell_type": "code",
   "execution_count": 105,
   "metadata": {},
   "outputs": [],
   "source": [
    "# drop 2020 (since its not in the weather data) as well as DC (for the same reason)\n",
    "# hawaii also had to be dropped from gas, as the data was not available via noaa\n",
    "gas_df.drop(gas_df.loc[gas_df['Date'].str.contains(\"2020\")].index, inplace=True)\n",
    "gas_df.drop(gas_df.loc[gas_df['State']=='District of Columbia'].index, inplace=True)\n",
    "gas_df.drop(gas_df.loc[gas_df['State']=='Hawaii'].index, inplace=True)"
   ]
  },
  {
   "cell_type": "code",
   "execution_count": 106,
   "metadata": {},
   "outputs": [],
   "source": [
    "# format the date variables to be uniform for merging - WEATHER\n",
    "weather_df['Date'] = pd.to_datetime(weather_df['Date'], format='%Y%m')\n",
    "weather_df['Date'] = weather_df['Date'].apply(lambda x: x.strftime('%Y-%m'))"
   ]
  },
  {
   "cell_type": "code",
   "execution_count": 107,
   "metadata": {},
   "outputs": [],
   "source": [
    "# format the date variables to be uniform for merging - GAS\n",
    "gas_df['Date'] = pd.to_datetime(gas_df['Date'], format='%b-%Y')\n",
    "gas_df['Date'] = gas_df['Date'].apply(lambda x: x.strftime('%Y-%m'))"
   ]
  },
  {
   "cell_type": "code",
   "execution_count": 108,
   "metadata": {},
   "outputs": [],
   "source": [
    "# merge the weather and gas data together into single df and display results\n",
    "combined_df = pd.merge(gas_df, weather_df, how='outer')\n",
    "combined_df.to_csv('clean_data/combined_gas_and_temp.csv')"
   ]
  },
  {
   "cell_type": "code",
   "execution_count": 109,
   "metadata": {},
   "outputs": [],
   "source": [
    "# convert date strings to datetime objects for easier referencing\n",
    "combined_df['Date'] = pd.to_datetime(combined_df['Date'], format='%Y-%m')\n",
    "pop_df['Date'] = pd.to_datetime(pop_df['Year'], format=\"%Y\")\n",
    "pop_df.drop(columns='Year', inplace=True)"
   ]
  },
  {
   "cell_type": "code",
   "execution_count": 110,
   "metadata": {},
   "outputs": [],
   "source": [
    "# group combined weather and gas data by State and Year\n",
    "combined_year_df = combined_df.groupby([combined_df['State'],combined_df['Date'].dt.year])"
   ]
  },
  {
   "cell_type": "code",
   "execution_count": 111,
   "metadata": {},
   "outputs": [],
   "source": [
    "# find the average values for each year and reset the index\n",
    "combined_means = combined_year_df.mean()\n",
    "combined_means = combined_means.reset_index()"
   ]
  },
  {
   "cell_type": "code",
   "execution_count": 112,
   "metadata": {},
   "outputs": [],
   "source": [
    "# convert date string to datetime object for merge\n",
    "combined_means['Date'] = pd.to_datetime(combined_means['Date'], format='%Y')"
   ]
  },
  {
   "cell_type": "code",
   "execution_count": 113,
   "metadata": {},
   "outputs": [],
   "source": [
    "# add population data with weather and gas averages into new DF\n",
    "combo_years = pd.merge(combined_means, pop_df, how='left', on=['Date', 'State'])"
   ]
  },
  {
   "cell_type": "code",
   "execution_count": 114,
   "metadata": {},
   "outputs": [],
   "source": [
    "# drop NaN values\n",
    "combo_years.dropna(how='any', inplace=True)\n",
    "# convert datetime object back into 'Year' string \n",
    "combo_years['Date'] = combo_years['Date'].apply(lambda x: x.strftime('%Y'))\n",
    "# rename column\n",
    "combo_years.rename(columns={'Date':'Year'}, inplace=True)\n",
    "#reset index\n",
    "combo_years.reset_index(drop=True, inplace=True)"
   ]
  },
  {
   "cell_type": "code",
   "execution_count": 115,
   "metadata": {},
   "outputs": [
    {
     "output_type": "execute_result",
     "data": {
      "text/plain": [
       "     State  Year  Natural Gas Consumption (MMcf)   Average Temperature  \\\n",
       "0  Alabama  2010                     3517.939750             62.708333   \n",
       "1  Alabama  2011                     3048.491417             63.833333   \n",
       "2  Alabama  2012                     2298.298333             64.916667   \n",
       "3  Alabama  2013                     2921.568667             62.600000   \n",
       "4  Alabama  2014                     3250.500833             62.033333   \n",
       "\n",
       "    Anomaly Population  \n",
       "0 -1.425000  4,785,437  \n",
       "1 -0.300000  4,799,069  \n",
       "2  0.783333  4,815,588  \n",
       "3 -1.533333  4,830,081  \n",
       "4 -2.100000  4,841,799  "
      ],
      "text/html": "<div>\n<style scoped>\n    .dataframe tbody tr th:only-of-type {\n        vertical-align: middle;\n    }\n\n    .dataframe tbody tr th {\n        vertical-align: top;\n    }\n\n    .dataframe thead th {\n        text-align: right;\n    }\n</style>\n<table border=\"1\" class=\"dataframe\">\n  <thead>\n    <tr style=\"text-align: right;\">\n      <th></th>\n      <th>State</th>\n      <th>Year</th>\n      <th>Natural Gas Consumption (MMcf)</th>\n      <th>Average Temperature</th>\n      <th>Anomaly</th>\n      <th>Population</th>\n    </tr>\n  </thead>\n  <tbody>\n    <tr>\n      <th>0</th>\n      <td>Alabama</td>\n      <td>2010</td>\n      <td>3517.939750</td>\n      <td>62.708333</td>\n      <td>-1.425000</td>\n      <td>4,785,437</td>\n    </tr>\n    <tr>\n      <th>1</th>\n      <td>Alabama</td>\n      <td>2011</td>\n      <td>3048.491417</td>\n      <td>63.833333</td>\n      <td>-0.300000</td>\n      <td>4,799,069</td>\n    </tr>\n    <tr>\n      <th>2</th>\n      <td>Alabama</td>\n      <td>2012</td>\n      <td>2298.298333</td>\n      <td>64.916667</td>\n      <td>0.783333</td>\n      <td>4,815,588</td>\n    </tr>\n    <tr>\n      <th>3</th>\n      <td>Alabama</td>\n      <td>2013</td>\n      <td>2921.568667</td>\n      <td>62.600000</td>\n      <td>-1.533333</td>\n      <td>4,830,081</td>\n    </tr>\n    <tr>\n      <th>4</th>\n      <td>Alabama</td>\n      <td>2014</td>\n      <td>3250.500833</td>\n      <td>62.033333</td>\n      <td>-2.100000</td>\n      <td>4,841,799</td>\n    </tr>\n  </tbody>\n</table>\n</div>"
     },
     "metadata": {},
     "execution_count": 115
    }
   ],
   "source": [
    "combo_years.head()"
   ]
  },
  {
   "cell_type": "code",
   "execution_count": 116,
   "metadata": {},
   "outputs": [
    {
     "output_type": "stream",
     "name": "stdout",
     "text": [
      "<class 'pandas.core.frame.DataFrame'>\nRangeIndex: 490 entries, 0 to 489\nData columns (total 6 columns):\n #   Column                          Non-Null Count  Dtype  \n---  ------                          --------------  -----  \n 0   State                           490 non-null    object \n 1   Year                            490 non-null    object \n 2   Natural Gas Consumption (MMcf)  490 non-null    float64\n 3    Average Temperature            490 non-null    float64\n 4   Anomaly                         490 non-null    float64\n 5   Population                      490 non-null    int32  \ndtypes: float64(3), int32(1), object(2)\nmemory usage: 21.2+ KB\n"
     ]
    }
   ],
   "source": [
    "# remove commas from population strings and then convert column to integers\n",
    "for i in range(0, len(combo_years)):\n",
    "   combo_years.iloc[i, 5] = int(combo_years.iloc[i, 5].replace(',',''))\n",
    "\n",
    "combo_years['Population'] = combo_years['Population'].astype(int)\n",
    "combo_years.info()"
   ]
  },
  {
   "cell_type": "code",
   "execution_count": 117,
   "metadata": {},
   "outputs": [
    {
     "output_type": "execute_result",
     "data": {
      "text/plain": [
       "24"
      ]
     },
     "metadata": {},
     "execution_count": 117
    }
   ],
   "source": [
    "# drop states that use less than 5000 MMcf per year\n",
    "combo_years = combo_years.loc[combo_years['Natural Gas Consumption (MMcf)'] >= 5000]\n",
    "combo_years = combo_years.reset_index(drop=True)\n",
    "len(combo_years['State'].unique())"
   ]
  },
  {
   "cell_type": "code",
   "execution_count": 118,
   "metadata": {},
   "outputs": [],
   "source": [
    "# add a average gas usage per person column\n",
    "combo_years['Gas Usage Per Person (MMcf)'] = combo_years['Natural Gas Consumption (MMcf)'] / combo_years['Population']\n",
    "combo_years['Gas Usage Per Person (MMcf)'] = combo_years['Gas Usage Per Person (MMcf)'].astype(float)"
   ]
  },
  {
   "cell_type": "code",
   "execution_count": 86,
   "metadata": {},
   "outputs": [
    {
     "output_type": "execute_result",
     "data": {
      "text/plain": [
       "                Natural Gas Consumption (MMcf)   Average Temperature  \\\n",
       "State                                                                  \n",
       "California                        37477.004692             59.520000   \n",
       "Colorado                          10648.595550             46.613333   \n",
       "Georgia                           10060.952758             64.768333   \n",
       "Illinois                          34740.719725             52.895833   \n",
       "Indiana                           11300.906708             52.691667   \n",
       "Iowa                               5659.685417             48.112037   \n",
       "Kansas                             5653.002736             54.383333   \n",
       "Maryland                           6740.274267             55.923333   \n",
       "Massachusetts                     10326.958658             49.424167   \n",
       "Michigan                          26272.151842             45.486667   \n",
       "Minnesota                         10740.516033             41.861667   \n",
       "Missouri                           8409.827483             55.649167   \n",
       "New Jersey                        18824.508083             54.240833   \n",
       "New York                          35610.031183             46.513333   \n",
       "North Carolina                     5742.453500             59.929167   \n",
       "Ohio                              23581.489000             52.110000   \n",
       "Oklahoma                           5516.723681             59.954167   \n",
       "Pennsylvania                      19052.875025             49.938333   \n",
       "Tennessee                          5975.514452             58.361905   \n",
       "Texas                             17033.887342             66.232500   \n",
       "Utah                               5657.239250             49.167708   \n",
       "Virginia                           6890.173192             56.501667   \n",
       "Washington                         6797.868192             47.513333   \n",
       "Wisconsin                         11153.699300             44.006667   \n",
       "\n",
       "                 Anomaly    Population  Gas Usage Per Person (MMcf)  \n",
       "State                                                                \n",
       "California     -0.013333  3.861819e+07                     0.000972  \n",
       "Colorado       -0.011667  5.403199e+06                     0.001974  \n",
       "Georgia        -0.040000  1.014747e+07                     0.000992  \n",
       "Illinois       -0.045833  1.282232e+07                     0.002710  \n",
       "Indiana        -0.066667  6.603554e+06                     0.001711  \n",
       "Iowa           -0.429630  3.113000e+06                     0.001819  \n",
       "Kansas         -1.091667  2.890962e+06                     0.001955  \n",
       "Maryland       -0.051667  5.948976e+06                     0.001133  \n",
       "Massachusetts  -0.050833  6.757157e+06                     0.001528  \n",
       "Michigan       -0.055000  9.932631e+06                     0.002645  \n",
       "Minnesota      -0.038333  5.471506e+06                     0.001962  \n",
       "Missouri       -0.025833  6.065212e+06                     0.001387  \n",
       "New Jersey     -0.059167  8.858652e+06                     0.002125  \n",
       "New York       -0.053333  1.956091e+07                     0.001820  \n",
       "North Carolina -0.237500  1.000803e+07                     0.000574  \n",
       "Ohio           -0.073333  1.160893e+07                     0.002031  \n",
       "Oklahoma       -0.870833  3.862822e+06                     0.001428  \n",
       "Pennsylvania   -0.053333  1.277464e+07                     0.001491  \n",
       "Tennessee      -0.604762  6.568877e+06                     0.000910  \n",
       "Texas          -0.050833  2.717210e+07                     0.000628  \n",
       "Utah           -0.348958  2.990832e+06                     0.001895  \n",
       "Virginia       -0.040000  8.314566e+06                     0.000829  \n",
       "Washington     -0.011667  7.150571e+06                     0.000951  \n",
       "Wisconsin      -0.051667  5.755760e+06                     0.001937  "
      ],
      "text/html": "<div>\n<style scoped>\n    .dataframe tbody tr th:only-of-type {\n        vertical-align: middle;\n    }\n\n    .dataframe tbody tr th {\n        vertical-align: top;\n    }\n\n    .dataframe thead th {\n        text-align: right;\n    }\n</style>\n<table border=\"1\" class=\"dataframe\">\n  <thead>\n    <tr style=\"text-align: right;\">\n      <th></th>\n      <th>Natural Gas Consumption (MMcf)</th>\n      <th>Average Temperature</th>\n      <th>Anomaly</th>\n      <th>Population</th>\n      <th>Gas Usage Per Person (MMcf)</th>\n    </tr>\n    <tr>\n      <th>State</th>\n      <th></th>\n      <th></th>\n      <th></th>\n      <th></th>\n      <th></th>\n    </tr>\n  </thead>\n  <tbody>\n    <tr>\n      <th>California</th>\n      <td>37477.004692</td>\n      <td>59.520000</td>\n      <td>-0.013333</td>\n      <td>3.861819e+07</td>\n      <td>0.000972</td>\n    </tr>\n    <tr>\n      <th>Colorado</th>\n      <td>10648.595550</td>\n      <td>46.613333</td>\n      <td>-0.011667</td>\n      <td>5.403199e+06</td>\n      <td>0.001974</td>\n    </tr>\n    <tr>\n      <th>Georgia</th>\n      <td>10060.952758</td>\n      <td>64.768333</td>\n      <td>-0.040000</td>\n      <td>1.014747e+07</td>\n      <td>0.000992</td>\n    </tr>\n    <tr>\n      <th>Illinois</th>\n      <td>34740.719725</td>\n      <td>52.895833</td>\n      <td>-0.045833</td>\n      <td>1.282232e+07</td>\n      <td>0.002710</td>\n    </tr>\n    <tr>\n      <th>Indiana</th>\n      <td>11300.906708</td>\n      <td>52.691667</td>\n      <td>-0.066667</td>\n      <td>6.603554e+06</td>\n      <td>0.001711</td>\n    </tr>\n    <tr>\n      <th>Iowa</th>\n      <td>5659.685417</td>\n      <td>48.112037</td>\n      <td>-0.429630</td>\n      <td>3.113000e+06</td>\n      <td>0.001819</td>\n    </tr>\n    <tr>\n      <th>Kansas</th>\n      <td>5653.002736</td>\n      <td>54.383333</td>\n      <td>-1.091667</td>\n      <td>2.890962e+06</td>\n      <td>0.001955</td>\n    </tr>\n    <tr>\n      <th>Maryland</th>\n      <td>6740.274267</td>\n      <td>55.923333</td>\n      <td>-0.051667</td>\n      <td>5.948976e+06</td>\n      <td>0.001133</td>\n    </tr>\n    <tr>\n      <th>Massachusetts</th>\n      <td>10326.958658</td>\n      <td>49.424167</td>\n      <td>-0.050833</td>\n      <td>6.757157e+06</td>\n      <td>0.001528</td>\n    </tr>\n    <tr>\n      <th>Michigan</th>\n      <td>26272.151842</td>\n      <td>45.486667</td>\n      <td>-0.055000</td>\n      <td>9.932631e+06</td>\n      <td>0.002645</td>\n    </tr>\n    <tr>\n      <th>Minnesota</th>\n      <td>10740.516033</td>\n      <td>41.861667</td>\n      <td>-0.038333</td>\n      <td>5.471506e+06</td>\n      <td>0.001962</td>\n    </tr>\n    <tr>\n      <th>Missouri</th>\n      <td>8409.827483</td>\n      <td>55.649167</td>\n      <td>-0.025833</td>\n      <td>6.065212e+06</td>\n      <td>0.001387</td>\n    </tr>\n    <tr>\n      <th>New Jersey</th>\n      <td>18824.508083</td>\n      <td>54.240833</td>\n      <td>-0.059167</td>\n      <td>8.858652e+06</td>\n      <td>0.002125</td>\n    </tr>\n    <tr>\n      <th>New York</th>\n      <td>35610.031183</td>\n      <td>46.513333</td>\n      <td>-0.053333</td>\n      <td>1.956091e+07</td>\n      <td>0.001820</td>\n    </tr>\n    <tr>\n      <th>North Carolina</th>\n      <td>5742.453500</td>\n      <td>59.929167</td>\n      <td>-0.237500</td>\n      <td>1.000803e+07</td>\n      <td>0.000574</td>\n    </tr>\n    <tr>\n      <th>Ohio</th>\n      <td>23581.489000</td>\n      <td>52.110000</td>\n      <td>-0.073333</td>\n      <td>1.160893e+07</td>\n      <td>0.002031</td>\n    </tr>\n    <tr>\n      <th>Oklahoma</th>\n      <td>5516.723681</td>\n      <td>59.954167</td>\n      <td>-0.870833</td>\n      <td>3.862822e+06</td>\n      <td>0.001428</td>\n    </tr>\n    <tr>\n      <th>Pennsylvania</th>\n      <td>19052.875025</td>\n      <td>49.938333</td>\n      <td>-0.053333</td>\n      <td>1.277464e+07</td>\n      <td>0.001491</td>\n    </tr>\n    <tr>\n      <th>Tennessee</th>\n      <td>5975.514452</td>\n      <td>58.361905</td>\n      <td>-0.604762</td>\n      <td>6.568877e+06</td>\n      <td>0.000910</td>\n    </tr>\n    <tr>\n      <th>Texas</th>\n      <td>17033.887342</td>\n      <td>66.232500</td>\n      <td>-0.050833</td>\n      <td>2.717210e+07</td>\n      <td>0.000628</td>\n    </tr>\n    <tr>\n      <th>Utah</th>\n      <td>5657.239250</td>\n      <td>49.167708</td>\n      <td>-0.348958</td>\n      <td>2.990832e+06</td>\n      <td>0.001895</td>\n    </tr>\n    <tr>\n      <th>Virginia</th>\n      <td>6890.173192</td>\n      <td>56.501667</td>\n      <td>-0.040000</td>\n      <td>8.314566e+06</td>\n      <td>0.000829</td>\n    </tr>\n    <tr>\n      <th>Washington</th>\n      <td>6797.868192</td>\n      <td>47.513333</td>\n      <td>-0.011667</td>\n      <td>7.150571e+06</td>\n      <td>0.000951</td>\n    </tr>\n    <tr>\n      <th>Wisconsin</th>\n      <td>11153.699300</td>\n      <td>44.006667</td>\n      <td>-0.051667</td>\n      <td>5.755760e+06</td>\n      <td>0.001937</td>\n    </tr>\n  </tbody>\n</table>\n</div>"
     },
     "metadata": {},
     "execution_count": 86
    }
   ],
   "source": []
  },
  {
   "cell_type": "code",
   "execution_count": 119,
   "metadata": {},
   "outputs": [],
   "source": [
    "combo_years.to_csv('clean_data/combined_w_pop.csv')"
   ]
  }
 ]
}