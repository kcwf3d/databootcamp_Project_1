{
 "cells": [
  {
   "cell_type": "code",
   "execution_count": 1,
   "metadata": {},
   "outputs": [],
   "source": [
    "import pandas as pd"
   ]
  },
  {
   "cell_type": "code",
   "execution_count": 2,
   "metadata": {},
   "outputs": [],
   "source": [
    "#files to load\n",
    "natural_gas_file=\"natural_gas_data.csv\"\n",
    "weather_state_file=\"ave_temp_by_state.csv\""
   ]
  },
  {
   "cell_type": "code",
   "execution_count": 3,
   "metadata": {},
   "outputs": [],
   "source": [
    "nat_gas_csv= pd.read_csv(natural_gas_file)\n",
    "state_weather_csv= pd.read_csv(weather_state_file)"
   ]
  },
  {
   "cell_type": "code",
   "execution_count": 4,
   "metadata": {
    "scrolled": true
   },
   "outputs": [
    {
     "data": {
      "text/html": [
       "<div>\n",
       "<style scoped>\n",
       "    .dataframe tbody tr th:only-of-type {\n",
       "        vertical-align: middle;\n",
       "    }\n",
       "\n",
       "    .dataframe tbody tr th {\n",
       "        vertical-align: top;\n",
       "    }\n",
       "\n",
       "    .dataframe thead th {\n",
       "        text-align: right;\n",
       "    }\n",
       "</style>\n",
       "<table border=\"1\" class=\"dataframe\">\n",
       "  <thead>\n",
       "    <tr style=\"text-align: right;\">\n",
       "      <th></th>\n",
       "      <th>Unnamed: 0</th>\n",
       "      <th>Date</th>\n",
       "      <th>State</th>\n",
       "      <th>Natural Gas Consumption (MMcf)</th>\n",
       "    </tr>\n",
       "  </thead>\n",
       "  <tbody>\n",
       "    <tr>\n",
       "      <th>0</th>\n",
       "      <td>0</td>\n",
       "      <td>Jan-10</td>\n",
       "      <td>Alabama</td>\n",
       "      <td>9202.647</td>\n",
       "    </tr>\n",
       "    <tr>\n",
       "      <th>1</th>\n",
       "      <td>1</td>\n",
       "      <td>Feb-10</td>\n",
       "      <td>Alabama</td>\n",
       "      <td>7762.261</td>\n",
       "    </tr>\n",
       "    <tr>\n",
       "      <th>2</th>\n",
       "      <td>2</td>\n",
       "      <td>Mar-10</td>\n",
       "      <td>Alabama</td>\n",
       "      <td>6612.051</td>\n",
       "    </tr>\n",
       "    <tr>\n",
       "      <th>3</th>\n",
       "      <td>3</td>\n",
       "      <td>Apr-10</td>\n",
       "      <td>Alabama</td>\n",
       "      <td>2987.217</td>\n",
       "    </tr>\n",
       "    <tr>\n",
       "      <th>4</th>\n",
       "      <td>4</td>\n",
       "      <td>May-10</td>\n",
       "      <td>Alabama</td>\n",
       "      <td>1142.784</td>\n",
       "    </tr>\n",
       "  </tbody>\n",
       "</table>\n",
       "</div>"
      ],
      "text/plain": [
       "   Unnamed: 0    Date    State  Natural Gas Consumption (MMcf)\n",
       "0           0  Jan-10  Alabama                        9202.647\n",
       "1           1  Feb-10  Alabama                        7762.261\n",
       "2           2  Mar-10  Alabama                        6612.051\n",
       "3           3  Apr-10  Alabama                        2987.217\n",
       "4           4  May-10  Alabama                        1142.784"
      ]
     },
     "execution_count": 4,
     "metadata": {},
     "output_type": "execute_result"
    }
   ],
   "source": [
    "gas_df = pd.DataFrame(nat_gas_csv)\n",
    "gas_df.head()"
   ]
  },
  {
   "cell_type": "code",
   "execution_count": 5,
   "metadata": {},
   "outputs": [
    {
     "data": {
      "text/html": [
       "<div>\n",
       "<style scoped>\n",
       "    .dataframe tbody tr th:only-of-type {\n",
       "        vertical-align: middle;\n",
       "    }\n",
       "\n",
       "    .dataframe tbody tr th {\n",
       "        vertical-align: top;\n",
       "    }\n",
       "\n",
       "    .dataframe thead th {\n",
       "        text-align: right;\n",
       "    }\n",
       "</style>\n",
       "<table border=\"1\" class=\"dataframe\">\n",
       "  <thead>\n",
       "    <tr style=\"text-align: right;\">\n",
       "      <th></th>\n",
       "      <th>Unnamed: 0</th>\n",
       "      <th>Date</th>\n",
       "      <th>State</th>\n",
       "      <th>Average Temperature</th>\n",
       "      <th>Anomaly</th>\n",
       "    </tr>\n",
       "  </thead>\n",
       "  <tbody>\n",
       "    <tr>\n",
       "      <th>0</th>\n",
       "      <td>0</td>\n",
       "      <td>Jan-00</td>\n",
       "      <td>Alabama</td>\n",
       "      <td>46.5</td>\n",
       "      <td>1.6</td>\n",
       "    </tr>\n",
       "    <tr>\n",
       "      <th>1</th>\n",
       "      <td>1</td>\n",
       "      <td>Feb-00</td>\n",
       "      <td>Alabama</td>\n",
       "      <td>52.3</td>\n",
       "      <td>2.5</td>\n",
       "    </tr>\n",
       "    <tr>\n",
       "      <th>2</th>\n",
       "      <td>2</td>\n",
       "      <td>Mar-00</td>\n",
       "      <td>Alabama</td>\n",
       "      <td>58.9</td>\n",
       "      <td>2.7</td>\n",
       "    </tr>\n",
       "    <tr>\n",
       "      <th>3</th>\n",
       "      <td>3</td>\n",
       "      <td>Apr-00</td>\n",
       "      <td>Alabama</td>\n",
       "      <td>60.1</td>\n",
       "      <td>-3.8</td>\n",
       "    </tr>\n",
       "    <tr>\n",
       "      <th>4</th>\n",
       "      <td>4</td>\n",
       "      <td>May-00</td>\n",
       "      <td>Alabama</td>\n",
       "      <td>74.0</td>\n",
       "      <td>2.4</td>\n",
       "    </tr>\n",
       "  </tbody>\n",
       "</table>\n",
       "</div>"
      ],
      "text/plain": [
       "   Unnamed: 0    Date    State   Average Temperature  Anomaly\n",
       "0           0  Jan-00  Alabama                  46.5      1.6\n",
       "1           1  Feb-00  Alabama                  52.3      2.5\n",
       "2           2  Mar-00  Alabama                  58.9      2.7\n",
       "3           3  Apr-00  Alabama                  60.1     -3.8\n",
       "4           4  May-00  Alabama                  74.0      2.4"
      ]
     },
     "execution_count": 5,
     "metadata": {},
     "output_type": "execute_result"
    }
   ],
   "source": [
    "weather_twenty_years= pd.DataFrame(state_weather_csv)\n",
    "weather_twenty_years.head()"
   ]
  },
  {
   "cell_type": "code",
   "execution_count": 6,
   "metadata": {
    "scrolled": true
   },
   "outputs": [
    {
     "data": {
      "text/html": [
       "<div>\n",
       "<style scoped>\n",
       "    .dataframe tbody tr th:only-of-type {\n",
       "        vertical-align: middle;\n",
       "    }\n",
       "\n",
       "    .dataframe tbody tr th {\n",
       "        vertical-align: top;\n",
       "    }\n",
       "\n",
       "    .dataframe thead th {\n",
       "        text-align: right;\n",
       "    }\n",
       "</style>\n",
       "<table border=\"1\" class=\"dataframe\">\n",
       "  <thead>\n",
       "    <tr style=\"text-align: right;\">\n",
       "      <th></th>\n",
       "      <th>Unnamed: 0_x</th>\n",
       "      <th>Date</th>\n",
       "      <th>State</th>\n",
       "      <th>Average Temperature</th>\n",
       "      <th>Anomaly</th>\n",
       "      <th>Unnamed: 0_y</th>\n",
       "      <th>Natural Gas Consumption (MMcf)</th>\n",
       "    </tr>\n",
       "  </thead>\n",
       "  <tbody>\n",
       "    <tr>\n",
       "      <th>0</th>\n",
       "      <td>0</td>\n",
       "      <td>Jan-00</td>\n",
       "      <td>Alabama</td>\n",
       "      <td>46.5</td>\n",
       "      <td>1.6</td>\n",
       "      <td>NaN</td>\n",
       "      <td>NaN</td>\n",
       "    </tr>\n",
       "    <tr>\n",
       "      <th>1</th>\n",
       "      <td>1</td>\n",
       "      <td>Feb-00</td>\n",
       "      <td>Alabama</td>\n",
       "      <td>52.3</td>\n",
       "      <td>2.5</td>\n",
       "      <td>NaN</td>\n",
       "      <td>NaN</td>\n",
       "    </tr>\n",
       "    <tr>\n",
       "      <th>2</th>\n",
       "      <td>2</td>\n",
       "      <td>Mar-00</td>\n",
       "      <td>Alabama</td>\n",
       "      <td>58.9</td>\n",
       "      <td>2.7</td>\n",
       "      <td>NaN</td>\n",
       "      <td>NaN</td>\n",
       "    </tr>\n",
       "    <tr>\n",
       "      <th>3</th>\n",
       "      <td>3</td>\n",
       "      <td>Apr-00</td>\n",
       "      <td>Alabama</td>\n",
       "      <td>60.1</td>\n",
       "      <td>-3.8</td>\n",
       "      <td>NaN</td>\n",
       "      <td>NaN</td>\n",
       "    </tr>\n",
       "    <tr>\n",
       "      <th>4</th>\n",
       "      <td>4</td>\n",
       "      <td>May-00</td>\n",
       "      <td>Alabama</td>\n",
       "      <td>74.0</td>\n",
       "      <td>2.4</td>\n",
       "      <td>NaN</td>\n",
       "      <td>NaN</td>\n",
       "    </tr>\n",
       "    <tr>\n",
       "      <th>...</th>\n",
       "      <td>...</td>\n",
       "      <td>...</td>\n",
       "      <td>...</td>\n",
       "      <td>...</td>\n",
       "      <td>...</td>\n",
       "      <td>...</td>\n",
       "      <td>...</td>\n",
       "    </tr>\n",
       "    <tr>\n",
       "      <th>11804</th>\n",
       "      <td>11804</td>\n",
       "      <td>Sep-19</td>\n",
       "      <td>Wyoming</td>\n",
       "      <td>56.7</td>\n",
       "      <td>0.1</td>\n",
       "      <td>6716.0</td>\n",
       "      <td>189.987</td>\n",
       "    </tr>\n",
       "    <tr>\n",
       "      <th>11805</th>\n",
       "      <td>11805</td>\n",
       "      <td>Oct-19</td>\n",
       "      <td>Wyoming</td>\n",
       "      <td>34.2</td>\n",
       "      <td>-8.9</td>\n",
       "      <td>6717.0</td>\n",
       "      <td>589.805</td>\n",
       "    </tr>\n",
       "    <tr>\n",
       "      <th>11806</th>\n",
       "      <td>11806</td>\n",
       "      <td>Nov-19</td>\n",
       "      <td>Wyoming</td>\n",
       "      <td>30.2</td>\n",
       "      <td>-0.9</td>\n",
       "      <td>6718.0</td>\n",
       "      <td>1847.274</td>\n",
       "    </tr>\n",
       "    <tr>\n",
       "      <th>11807</th>\n",
       "      <td>11807</td>\n",
       "      <td>Dec-19</td>\n",
       "      <td>Wyoming</td>\n",
       "      <td>23.0</td>\n",
       "      <td>1.4</td>\n",
       "      <td>6719.0</td>\n",
       "      <td>2073.947</td>\n",
       "    </tr>\n",
       "    <tr>\n",
       "      <th>11808</th>\n",
       "      <td>11808</td>\n",
       "      <td>Jan-20</td>\n",
       "      <td>Wyoming</td>\n",
       "      <td>23.8</td>\n",
       "      <td>1.4</td>\n",
       "      <td>6720.0</td>\n",
       "      <td>2067.150</td>\n",
       "    </tr>\n",
       "  </tbody>\n",
       "</table>\n",
       "<p>11809 rows × 7 columns</p>\n",
       "</div>"
      ],
      "text/plain": [
       "       Unnamed: 0_x    Date    State   Average Temperature  Anomaly  \\\n",
       "0                 0  Jan-00  Alabama                  46.5      1.6   \n",
       "1                 1  Feb-00  Alabama                  52.3      2.5   \n",
       "2                 2  Mar-00  Alabama                  58.9      2.7   \n",
       "3                 3  Apr-00  Alabama                  60.1     -3.8   \n",
       "4                 4  May-00  Alabama                  74.0      2.4   \n",
       "...             ...     ...      ...                   ...      ...   \n",
       "11804         11804  Sep-19  Wyoming                  56.7      0.1   \n",
       "11805         11805  Oct-19  Wyoming                  34.2     -8.9   \n",
       "11806         11806  Nov-19  Wyoming                  30.2     -0.9   \n",
       "11807         11807  Dec-19  Wyoming                  23.0      1.4   \n",
       "11808         11808  Jan-20  Wyoming                  23.8      1.4   \n",
       "\n",
       "       Unnamed: 0_y  Natural Gas Consumption (MMcf)  \n",
       "0               NaN                             NaN  \n",
       "1               NaN                             NaN  \n",
       "2               NaN                             NaN  \n",
       "3               NaN                             NaN  \n",
       "4               NaN                             NaN  \n",
       "...             ...                             ...  \n",
       "11804        6716.0                         189.987  \n",
       "11805        6717.0                         589.805  \n",
       "11806        6718.0                        1847.274  \n",
       "11807        6719.0                        2073.947  \n",
       "11808        6720.0                        2067.150  \n",
       "\n",
       "[11809 rows x 7 columns]"
      ]
     },
     "execution_count": 6,
     "metadata": {},
     "output_type": "execute_result"
    }
   ],
   "source": [
    "merge_df= pd.merge(weather_twenty_years,gas_df, how =\"left\", on =[\"Date\",\"State\"])\n",
    "merge_df"
   ]
  },
  {
   "cell_type": "code",
   "execution_count": 7,
   "metadata": {},
   "outputs": [
    {
     "data": {
      "text/html": [
       "<div>\n",
       "<style scoped>\n",
       "    .dataframe tbody tr th:only-of-type {\n",
       "        vertical-align: middle;\n",
       "    }\n",
       "\n",
       "    .dataframe tbody tr th {\n",
       "        vertical-align: top;\n",
       "    }\n",
       "\n",
       "    .dataframe thead th {\n",
       "        text-align: right;\n",
       "    }\n",
       "</style>\n",
       "<table border=\"1\" class=\"dataframe\">\n",
       "  <thead>\n",
       "    <tr style=\"text-align: right;\">\n",
       "      <th></th>\n",
       "      <th>Unnamed: 0_x</th>\n",
       "      <th>Date</th>\n",
       "      <th>State</th>\n",
       "      <th>Average Temperature</th>\n",
       "      <th>Anomaly</th>\n",
       "      <th>Unnamed: 0_y</th>\n",
       "      <th>Natural Gas Consumption (MMcf)</th>\n",
       "    </tr>\n",
       "  </thead>\n",
       "  <tbody>\n",
       "    <tr>\n",
       "      <th>120</th>\n",
       "      <td>120</td>\n",
       "      <td>Jan-10</td>\n",
       "      <td>Alabama</td>\n",
       "      <td>40.0</td>\n",
       "      <td>-4.9</td>\n",
       "      <td>0.0</td>\n",
       "      <td>9202.647</td>\n",
       "    </tr>\n",
       "    <tr>\n",
       "      <th>121</th>\n",
       "      <td>121</td>\n",
       "      <td>Feb-10</td>\n",
       "      <td>Alabama</td>\n",
       "      <td>40.6</td>\n",
       "      <td>-9.2</td>\n",
       "      <td>1.0</td>\n",
       "      <td>7762.261</td>\n",
       "    </tr>\n",
       "    <tr>\n",
       "      <th>122</th>\n",
       "      <td>122</td>\n",
       "      <td>Mar-10</td>\n",
       "      <td>Alabama</td>\n",
       "      <td>51.2</td>\n",
       "      <td>-5.0</td>\n",
       "      <td>2.0</td>\n",
       "      <td>6612.051</td>\n",
       "    </tr>\n",
       "    <tr>\n",
       "      <th>123</th>\n",
       "      <td>123</td>\n",
       "      <td>Apr-10</td>\n",
       "      <td>Alabama</td>\n",
       "      <td>64.2</td>\n",
       "      <td>0.3</td>\n",
       "      <td>3.0</td>\n",
       "      <td>2987.217</td>\n",
       "    </tr>\n",
       "    <tr>\n",
       "      <th>124</th>\n",
       "      <td>124</td>\n",
       "      <td>May-10</td>\n",
       "      <td>Alabama</td>\n",
       "      <td>73.3</td>\n",
       "      <td>1.7</td>\n",
       "      <td>4.0</td>\n",
       "      <td>1142.784</td>\n",
       "    </tr>\n",
       "    <tr>\n",
       "      <th>...</th>\n",
       "      <td>...</td>\n",
       "      <td>...</td>\n",
       "      <td>...</td>\n",
       "      <td>...</td>\n",
       "      <td>...</td>\n",
       "      <td>...</td>\n",
       "      <td>...</td>\n",
       "    </tr>\n",
       "    <tr>\n",
       "      <th>11804</th>\n",
       "      <td>11804</td>\n",
       "      <td>Sep-19</td>\n",
       "      <td>Wyoming</td>\n",
       "      <td>56.7</td>\n",
       "      <td>0.1</td>\n",
       "      <td>6716.0</td>\n",
       "      <td>189.987</td>\n",
       "    </tr>\n",
       "    <tr>\n",
       "      <th>11805</th>\n",
       "      <td>11805</td>\n",
       "      <td>Oct-19</td>\n",
       "      <td>Wyoming</td>\n",
       "      <td>34.2</td>\n",
       "      <td>-8.9</td>\n",
       "      <td>6717.0</td>\n",
       "      <td>589.805</td>\n",
       "    </tr>\n",
       "    <tr>\n",
       "      <th>11806</th>\n",
       "      <td>11806</td>\n",
       "      <td>Nov-19</td>\n",
       "      <td>Wyoming</td>\n",
       "      <td>30.2</td>\n",
       "      <td>-0.9</td>\n",
       "      <td>6718.0</td>\n",
       "      <td>1847.274</td>\n",
       "    </tr>\n",
       "    <tr>\n",
       "      <th>11807</th>\n",
       "      <td>11807</td>\n",
       "      <td>Dec-19</td>\n",
       "      <td>Wyoming</td>\n",
       "      <td>23.0</td>\n",
       "      <td>1.4</td>\n",
       "      <td>6719.0</td>\n",
       "      <td>2073.947</td>\n",
       "    </tr>\n",
       "    <tr>\n",
       "      <th>11808</th>\n",
       "      <td>11808</td>\n",
       "      <td>Jan-20</td>\n",
       "      <td>Wyoming</td>\n",
       "      <td>23.8</td>\n",
       "      <td>1.4</td>\n",
       "      <td>6720.0</td>\n",
       "      <td>2067.150</td>\n",
       "    </tr>\n",
       "  </tbody>\n",
       "</table>\n",
       "<p>5926 rows × 7 columns</p>\n",
       "</div>"
      ],
      "text/plain": [
       "       Unnamed: 0_x    Date    State   Average Temperature  Anomaly  \\\n",
       "120             120  Jan-10  Alabama                  40.0     -4.9   \n",
       "121             121  Feb-10  Alabama                  40.6     -9.2   \n",
       "122             122  Mar-10  Alabama                  51.2     -5.0   \n",
       "123             123  Apr-10  Alabama                  64.2      0.3   \n",
       "124             124  May-10  Alabama                  73.3      1.7   \n",
       "...             ...     ...      ...                   ...      ...   \n",
       "11804         11804  Sep-19  Wyoming                  56.7      0.1   \n",
       "11805         11805  Oct-19  Wyoming                  34.2     -8.9   \n",
       "11806         11806  Nov-19  Wyoming                  30.2     -0.9   \n",
       "11807         11807  Dec-19  Wyoming                  23.0      1.4   \n",
       "11808         11808  Jan-20  Wyoming                  23.8      1.4   \n",
       "\n",
       "       Unnamed: 0_y  Natural Gas Consumption (MMcf)  \n",
       "120             0.0                        9202.647  \n",
       "121             1.0                        7762.261  \n",
       "122             2.0                        6612.051  \n",
       "123             3.0                        2987.217  \n",
       "124             4.0                        1142.784  \n",
       "...             ...                             ...  \n",
       "11804        6716.0                         189.987  \n",
       "11805        6717.0                         589.805  \n",
       "11806        6718.0                        1847.274  \n",
       "11807        6719.0                        2073.947  \n",
       "11808        6720.0                        2067.150  \n",
       "\n",
       "[5926 rows x 7 columns]"
      ]
     },
     "execution_count": 7,
     "metadata": {},
     "output_type": "execute_result"
    }
   ],
   "source": [
    "null_drop = merge_df.dropna(how='any')\n",
    "null_drop"
   ]
  },
  {
   "cell_type": "code",
   "execution_count": 8,
   "metadata": {
    "scrolled": true
   },
   "outputs": [
    {
     "data": {
      "text/html": [
       "<div>\n",
       "<style scoped>\n",
       "    .dataframe tbody tr th:only-of-type {\n",
       "        vertical-align: middle;\n",
       "    }\n",
       "\n",
       "    .dataframe tbody tr th {\n",
       "        vertical-align: top;\n",
       "    }\n",
       "\n",
       "    .dataframe thead th {\n",
       "        text-align: right;\n",
       "    }\n",
       "</style>\n",
       "<table border=\"1\" class=\"dataframe\">\n",
       "  <thead>\n",
       "    <tr style=\"text-align: right;\">\n",
       "      <th></th>\n",
       "      <th>Date</th>\n",
       "      <th>State</th>\n",
       "      <th>Average Temperature</th>\n",
       "      <th>Anomaly</th>\n",
       "      <th>Natural Gas Consumption (MMcf)</th>\n",
       "    </tr>\n",
       "  </thead>\n",
       "  <tbody>\n",
       "    <tr>\n",
       "      <th>120</th>\n",
       "      <td>Jan-10</td>\n",
       "      <td>Alabama</td>\n",
       "      <td>40.0</td>\n",
       "      <td>-4.9</td>\n",
       "      <td>9202.647</td>\n",
       "    </tr>\n",
       "    <tr>\n",
       "      <th>121</th>\n",
       "      <td>Feb-10</td>\n",
       "      <td>Alabama</td>\n",
       "      <td>40.6</td>\n",
       "      <td>-9.2</td>\n",
       "      <td>7762.261</td>\n",
       "    </tr>\n",
       "    <tr>\n",
       "      <th>122</th>\n",
       "      <td>Mar-10</td>\n",
       "      <td>Alabama</td>\n",
       "      <td>51.2</td>\n",
       "      <td>-5.0</td>\n",
       "      <td>6612.051</td>\n",
       "    </tr>\n",
       "    <tr>\n",
       "      <th>123</th>\n",
       "      <td>Apr-10</td>\n",
       "      <td>Alabama</td>\n",
       "      <td>64.2</td>\n",
       "      <td>0.3</td>\n",
       "      <td>2987.217</td>\n",
       "    </tr>\n",
       "    <tr>\n",
       "      <th>124</th>\n",
       "      <td>May-10</td>\n",
       "      <td>Alabama</td>\n",
       "      <td>73.3</td>\n",
       "      <td>1.7</td>\n",
       "      <td>1142.784</td>\n",
       "    </tr>\n",
       "    <tr>\n",
       "      <th>...</th>\n",
       "      <td>...</td>\n",
       "      <td>...</td>\n",
       "      <td>...</td>\n",
       "      <td>...</td>\n",
       "      <td>...</td>\n",
       "    </tr>\n",
       "    <tr>\n",
       "      <th>11804</th>\n",
       "      <td>Sep-19</td>\n",
       "      <td>Wyoming</td>\n",
       "      <td>56.7</td>\n",
       "      <td>0.1</td>\n",
       "      <td>189.987</td>\n",
       "    </tr>\n",
       "    <tr>\n",
       "      <th>11805</th>\n",
       "      <td>Oct-19</td>\n",
       "      <td>Wyoming</td>\n",
       "      <td>34.2</td>\n",
       "      <td>-8.9</td>\n",
       "      <td>589.805</td>\n",
       "    </tr>\n",
       "    <tr>\n",
       "      <th>11806</th>\n",
       "      <td>Nov-19</td>\n",
       "      <td>Wyoming</td>\n",
       "      <td>30.2</td>\n",
       "      <td>-0.9</td>\n",
       "      <td>1847.274</td>\n",
       "    </tr>\n",
       "    <tr>\n",
       "      <th>11807</th>\n",
       "      <td>Dec-19</td>\n",
       "      <td>Wyoming</td>\n",
       "      <td>23.0</td>\n",
       "      <td>1.4</td>\n",
       "      <td>2073.947</td>\n",
       "    </tr>\n",
       "    <tr>\n",
       "      <th>11808</th>\n",
       "      <td>Jan-20</td>\n",
       "      <td>Wyoming</td>\n",
       "      <td>23.8</td>\n",
       "      <td>1.4</td>\n",
       "      <td>2067.150</td>\n",
       "    </tr>\n",
       "  </tbody>\n",
       "</table>\n",
       "<p>5926 rows × 5 columns</p>\n",
       "</div>"
      ],
      "text/plain": [
       "         Date    State   Average Temperature  Anomaly  \\\n",
       "120    Jan-10  Alabama                  40.0     -4.9   \n",
       "121    Feb-10  Alabama                  40.6     -9.2   \n",
       "122    Mar-10  Alabama                  51.2     -5.0   \n",
       "123    Apr-10  Alabama                  64.2      0.3   \n",
       "124    May-10  Alabama                  73.3      1.7   \n",
       "...       ...      ...                   ...      ...   \n",
       "11804  Sep-19  Wyoming                  56.7      0.1   \n",
       "11805  Oct-19  Wyoming                  34.2     -8.9   \n",
       "11806  Nov-19  Wyoming                  30.2     -0.9   \n",
       "11807  Dec-19  Wyoming                  23.0      1.4   \n",
       "11808  Jan-20  Wyoming                  23.8      1.4   \n",
       "\n",
       "       Natural Gas Consumption (MMcf)  \n",
       "120                          9202.647  \n",
       "121                          7762.261  \n",
       "122                          6612.051  \n",
       "123                          2987.217  \n",
       "124                          1142.784  \n",
       "...                               ...  \n",
       "11804                         189.987  \n",
       "11805                         589.805  \n",
       "11806                        1847.274  \n",
       "11807                        2073.947  \n",
       "11808                        2067.150  \n",
       "\n",
       "[5926 rows x 5 columns]"
      ]
     },
     "execution_count": 8,
     "metadata": {},
     "output_type": "execute_result"
    }
   ],
   "source": [
    "clean_merge= null_drop.drop(columns=['Unnamed: 0_x',\"Unnamed: 0_y\"])\n",
    "clean_merge"
   ]
  },
  {
   "cell_type": "code",
   "execution_count": 9,
   "metadata": {},
   "outputs": [
    {
     "data": {
      "text/html": [
       "<div>\n",
       "<style scoped>\n",
       "    .dataframe tbody tr th:only-of-type {\n",
       "        vertical-align: middle;\n",
       "    }\n",
       "\n",
       "    .dataframe tbody tr th {\n",
       "        vertical-align: top;\n",
       "    }\n",
       "\n",
       "    .dataframe thead th {\n",
       "        text-align: right;\n",
       "    }\n",
       "</style>\n",
       "<table border=\"1\" class=\"dataframe\">\n",
       "  <thead>\n",
       "    <tr style=\"text-align: right;\">\n",
       "      <th></th>\n",
       "      <th>Date</th>\n",
       "      <th>State</th>\n",
       "      <th>Average Temperature</th>\n",
       "      <th>Anomaly</th>\n",
       "      <th>Natural Gas Consumption (MMcf)</th>\n",
       "    </tr>\n",
       "  </thead>\n",
       "  <tbody>\n",
       "    <tr>\n",
       "      <th>120</th>\n",
       "      <td>Jan-10</td>\n",
       "      <td>Alabama</td>\n",
       "      <td>40.0</td>\n",
       "      <td>-4.9</td>\n",
       "      <td>9202.647</td>\n",
       "    </tr>\n",
       "    <tr>\n",
       "      <th>121</th>\n",
       "      <td>Feb-10</td>\n",
       "      <td>Alabama</td>\n",
       "      <td>40.6</td>\n",
       "      <td>-9.2</td>\n",
       "      <td>7762.261</td>\n",
       "    </tr>\n",
       "    <tr>\n",
       "      <th>122</th>\n",
       "      <td>Mar-10</td>\n",
       "      <td>Alabama</td>\n",
       "      <td>51.2</td>\n",
       "      <td>-5.0</td>\n",
       "      <td>6612.051</td>\n",
       "    </tr>\n",
       "    <tr>\n",
       "      <th>131</th>\n",
       "      <td>Dec-10</td>\n",
       "      <td>Alabama</td>\n",
       "      <td>40.3</td>\n",
       "      <td>-9.0</td>\n",
       "      <td>7970.435</td>\n",
       "    </tr>\n",
       "    <tr>\n",
       "      <th>132</th>\n",
       "      <td>Jan-11</td>\n",
       "      <td>Alabama</td>\n",
       "      <td>41.1</td>\n",
       "      <td>-3.8</td>\n",
       "      <td>9951.178</td>\n",
       "    </tr>\n",
       "    <tr>\n",
       "      <th>...</th>\n",
       "      <td>...</td>\n",
       "      <td>...</td>\n",
       "      <td>...</td>\n",
       "      <td>...</td>\n",
       "      <td>...</td>\n",
       "    </tr>\n",
       "    <tr>\n",
       "      <th>11559</th>\n",
       "      <td>May-19</td>\n",
       "      <td>Wisconsin</td>\n",
       "      <td>51.8</td>\n",
       "      <td>-4.4</td>\n",
       "      <td>7050.223</td>\n",
       "    </tr>\n",
       "    <tr>\n",
       "      <th>11564</th>\n",
       "      <td>Oct-19</td>\n",
       "      <td>Wisconsin</td>\n",
       "      <td>45.0</td>\n",
       "      <td>-2.4</td>\n",
       "      <td>9003.976</td>\n",
       "    </tr>\n",
       "    <tr>\n",
       "      <th>11565</th>\n",
       "      <td>Nov-19</td>\n",
       "      <td>Wisconsin</td>\n",
       "      <td>28.2</td>\n",
       "      <td>-4.8</td>\n",
       "      <td>19033.545</td>\n",
       "    </tr>\n",
       "    <tr>\n",
       "      <th>11566</th>\n",
       "      <td>Dec-19</td>\n",
       "      <td>Wisconsin</td>\n",
       "      <td>23.5</td>\n",
       "      <td>1.4</td>\n",
       "      <td>21240.594</td>\n",
       "    </tr>\n",
       "    <tr>\n",
       "      <th>11567</th>\n",
       "      <td>Jan-20</td>\n",
       "      <td>Wisconsin</td>\n",
       "      <td>21.6</td>\n",
       "      <td>6.0</td>\n",
       "      <td>22909.245</td>\n",
       "    </tr>\n",
       "  </tbody>\n",
       "</table>\n",
       "<p>2247 rows × 5 columns</p>\n",
       "</div>"
      ],
      "text/plain": [
       "         Date      State   Average Temperature  Anomaly  \\\n",
       "120    Jan-10    Alabama                  40.0     -4.9   \n",
       "121    Feb-10    Alabama                  40.6     -9.2   \n",
       "122    Mar-10    Alabama                  51.2     -5.0   \n",
       "131    Dec-10    Alabama                  40.3     -9.0   \n",
       "132    Jan-11    Alabama                  41.1     -3.8   \n",
       "...       ...        ...                   ...      ...   \n",
       "11559  May-19  Wisconsin                  51.8     -4.4   \n",
       "11564  Oct-19  Wisconsin                  45.0     -2.4   \n",
       "11565  Nov-19  Wisconsin                  28.2     -4.8   \n",
       "11566  Dec-19  Wisconsin                  23.5      1.4   \n",
       "11567  Jan-20  Wisconsin                  21.6      6.0   \n",
       "\n",
       "       Natural Gas Consumption (MMcf)  \n",
       "120                          9202.647  \n",
       "121                          7762.261  \n",
       "122                          6612.051  \n",
       "131                          7970.435  \n",
       "132                          9951.178  \n",
       "...                               ...  \n",
       "11559                        7050.223  \n",
       "11564                        9003.976  \n",
       "11565                       19033.545  \n",
       "11566                       21240.594  \n",
       "11567                       22909.245  \n",
       "\n",
       "[2247 rows x 5 columns]"
      ]
     },
     "execution_count": 9,
     "metadata": {},
     "output_type": "execute_result"
    }
   ],
   "source": [
    "#Dropping states that use less than 5000 MMcf. Considering these low use states as outliers \n",
    "\n",
    "state_drop= clean_merge[clean_merge['Natural Gas Consumption (MMcf)']<=5000].index\n",
    "gas_states=clean_merge.drop(state_drop)\n",
    "gas_states"
   ]
  },
  {
   "cell_type": "code",
   "execution_count": null,
   "metadata": {},
   "outputs": [],
   "source": []
  },
  {
   "cell_type": "code",
   "execution_count": 10,
   "metadata": {},
   "outputs": [],
   "source": [
    "state_group= gas_states.groupby(clean_merge['State'])\n"
   ]
  },
  {
   "cell_type": "code",
   "execution_count": 11,
   "metadata": {},
   "outputs": [],
   "source": [
    "state_ave = state_group['Natural Gas Consumption (MMcf)'].mean()\n"
   ]
  },
  {
   "cell_type": "code",
   "execution_count": 12,
   "metadata": {},
   "outputs": [],
   "source": [
    "import numpy as np\n",
    "import matplotlib.pyplot as plt"
   ]
  },
  {
   "cell_type": "code",
   "execution_count": 13,
   "metadata": {
    "scrolled": true
   },
   "outputs": [
    {
     "data": {
      "text/plain": [
       "<AxesSubplot:xlabel='State'>"
      ]
     },
     "execution_count": 13,
     "metadata": {},
     "output_type": "execute_result"
    },
    {
     "data": {
      "image/png": "[encoded data removed]",
      "text/plain": [
       "<Figure size 432x288 with 1 Axes>"
      ]
     },
     "metadata": {
      "needs_background": "light"
     },
     "output_type": "display_data"
    }
   ],
   "source": [
    "state_ave.plot(kind='bar', y='Natural Gas Consumption (MMcf)')"
   ]
  },
  {
   "cell_type": "code",
   "execution_count": 14,
   "metadata": {},
   "outputs": [],
   "source": [
    "# Grouping States by Standard Federal Regions "
   ]
  },
  {
   "cell_type": "code",
   "execution_count": 15,
   "metadata": {},
   "outputs": [],
   "source": [
    "Region_I= gas_states.loc[(gas_states['State']== 'Connecticut') | (gas_states['State']== 'Massachusetts')]"
   ]
  },
  {
   "cell_type": "code",
   "execution_count": 16,
   "metadata": {},
   "outputs": [],
   "source": [
    "Region_II= gas_states.loc[(gas_states['State']== 'New Jersey') | (gas_states['State']== 'New York')]"
   ]
  },
  {
   "cell_type": "code",
   "execution_count": 17,
   "metadata": {},
   "outputs": [],
   "source": [
    "Region_III= gas_states.loc[(gas_states['State']== 'Maryland') | (gas_states['State']== 'Pennsylvania') | (gas_states['State']== 'Virginia') | (gas_states['State']== 'West Virginia')]"
   ]
  },
  {
   "cell_type": "code",
   "execution_count": 18,
   "metadata": {},
   "outputs": [],
   "source": [
    "Region_IV= gas_states.loc[(gas_states['State']== 'Alabama') | (gas_states['State']== 'Georgia') | (gas_states['State']== 'Kentucky') | (gas_states['State']== 'Mississippi') |(gas_states['State']== 'North Carolina') |(gas_states['State']== 'South Carolina') | (gas_states['State']=='Tennessee')]"
   ]
  },
  {
   "cell_type": "code",
   "execution_count": 19,
   "metadata": {},
   "outputs": [],
   "source": [
    "Region_V = gas_states.loc[(gas_states['State']== 'Illinois') | (gas_states['State']== 'Indiana') | (gas_states['State']=='Michigan') | (gas_states['State']=='Minnesota')| (gas_states['State']=='Ohio') |( gas_states['State']== 'Wisconsin')]"
   ]
  },
  {
   "cell_type": "code",
   "execution_count": 20,
   "metadata": {},
   "outputs": [],
   "source": [
    "Region_VI=gas_states.loc[(gas_states['State']== 'Arkansas') | (gas_states['State']== 'Louisiana') | (gas_states['State']== 'New Mexico') | (gas_states['State']=='Oklahoma') |(gas_states['State']=='Texas')]"
   ]
  },
  {
   "cell_type": "code",
   "execution_count": 21,
   "metadata": {},
   "outputs": [],
   "source": [
    "Region_VII=gas_states.loc[(gas_states['State']== 'Iowa') | (gas_states['State']== 'Kansas') |(gas_states['State']=='Missouri')]"
   ]
  },
  {
   "cell_type": "code",
   "execution_count": 22,
   "metadata": {},
   "outputs": [],
   "source": [
    "Region_VIII=gas_states.loc[(gas_states['State']== 'Colorado') | (gas_states['State']== 'Utah')]"
   ]
  },
  {
   "cell_type": "code",
   "execution_count": 23,
   "metadata": {},
   "outputs": [],
   "source": [
    "Region_IX=gas_states.loc[(gas_states['State']== 'Arizona') | (gas_states['State']== 'California')]"
   ]
  },
  {
   "cell_type": "code",
   "execution_count": 24,
   "metadata": {},
   "outputs": [],
   "source": [
    "Region_X= gas_states.loc[(gas_states['State']== 'Idaho') | (gas_states['State']== 'Oregon') | (gas_states['State']=='Washington')]"
   ]
  },
  {
   "cell_type": "code",
   "execution_count": 25,
   "metadata": {},
   "outputs": [
    {
     "name": "stdout",
     "output_type": "stream",
     "text": [
      "12245.1342051282\n"
     ]
    }
   ],
   "source": [
    "reg_I_gas= Region_I['Natural Gas Consumption (MMcf)'].mean()\n",
    "print(reg_I_gas)"
   ]
  },
  {
   "cell_type": "code",
   "execution_count": 26,
   "metadata": {},
   "outputs": [
    {
     "name": "stdout",
     "output_type": "stream",
     "text": [
      "29755.519713636375\n"
     ]
    }
   ],
   "source": [
    "reg_II_gas= Region_II['Natural Gas Consumption (MMcf)'].mean()\n",
    "print(reg_II_gas)"
   ]
  },
  {
   "cell_type": "code",
   "execution_count": 27,
   "metadata": {},
   "outputs": [],
   "source": [
    "\n",
    "reg_II_gas= Region_II['Natural Gas Consumption (MMcf)'].mean()\n",
    "reg_III_gas= Region_III['Natural Gas Consumption (MMcf)'].mean()\n",
    "reg_IV_gas= Region_IV['Natural Gas Consumption (MMcf)'].mean()\n",
    "reg_V_gas= Region_V['Natural Gas Consumption (MMcf)'].mean()\n",
    "reg_VI_gas= Region_VI['Natural Gas Consumption (MMcf)'].mean()\n",
    "reg_VII_gas= Region_VII['Natural Gas Consumption (MMcf)'].mean()\n",
    "reg_VIII_gas= Region_VIII['Natural Gas Consumption (MMcf)'].mean()\n",
    "reg_IX_gas= Region_IX['Natural Gas Consumption (MMcf)'].mean()\n",
    "reg_X_gas= Region_X['Natural Gas Consumption (MMcf)'].mean()"
   ]
  },
  {
   "cell_type": "code",
   "execution_count": 68,
   "metadata": {},
   "outputs": [],
   "source": [
    "reg_name=('1','2','3','4','5','6','7','8','9','10')\n",
    "reg_CCmf=([reg_I_gas,reg_II_gas,reg_III_gas,reg_IV_gas,reg_V_gas,reg_VI_gas,reg_VII_gas,reg_VIII_gas,reg_IX_gas,reg_X_gas])"
   ]
  },
  {
   "cell_type": "code",
   "execution_count": 70,
   "metadata": {},
   "outputs": [
    {
     "data": {
      "text/html": [
       "<div>\n",
       "<style scoped>\n",
       "    .dataframe tbody tr th:only-of-type {\n",
       "        vertical-align: middle;\n",
       "    }\n",
       "\n",
       "    .dataframe tbody tr th {\n",
       "        vertical-align: top;\n",
       "    }\n",
       "\n",
       "    .dataframe thead th {\n",
       "        text-align: right;\n",
       "    }\n",
       "</style>\n",
       "<table border=\"1\" class=\"dataframe\">\n",
       "  <thead>\n",
       "    <tr style=\"text-align: right;\">\n",
       "      <th></th>\n",
       "      <th>Region</th>\n",
       "      <th>Ave MMcf</th>\n",
       "    </tr>\n",
       "  </thead>\n",
       "  <tbody>\n",
       "    <tr>\n",
       "      <th>0</th>\n",
       "      <td>1</td>\n",
       "      <td>12245.134205</td>\n",
       "    </tr>\n",
       "    <tr>\n",
       "      <th>1</th>\n",
       "      <td>2</td>\n",
       "      <td>29755.519714</td>\n",
       "    </tr>\n",
       "    <tr>\n",
       "      <th>2</th>\n",
       "      <td>3</td>\n",
       "      <td>17591.317564</td>\n",
       "    </tr>\n",
       "    <tr>\n",
       "      <th>3</th>\n",
       "      <td>4</td>\n",
       "      <td>10781.670837</td>\n",
       "    </tr>\n",
       "    <tr>\n",
       "      <th>4</th>\n",
       "      <td>5</td>\n",
       "      <td>24545.681680</td>\n",
       "    </tr>\n",
       "    <tr>\n",
       "      <th>5</th>\n",
       "      <td>6</td>\n",
       "      <td>12610.595440</td>\n",
       "    </tr>\n",
       "    <tr>\n",
       "      <th>6</th>\n",
       "      <td>7</td>\n",
       "      <td>11773.560352</td>\n",
       "    </tr>\n",
       "    <tr>\n",
       "      <th>7</th>\n",
       "      <td>8</td>\n",
       "      <td>12660.356955</td>\n",
       "    </tr>\n",
       "    <tr>\n",
       "      <th>8</th>\n",
       "      <td>9</td>\n",
       "      <td>32088.449081</td>\n",
       "    </tr>\n",
       "    <tr>\n",
       "      <th>9</th>\n",
       "      <td>10</td>\n",
       "      <td>8753.327469</td>\n",
       "    </tr>\n",
       "  </tbody>\n",
       "</table>\n",
       "</div>"
      ],
      "text/plain": [
       "  Region      Ave MMcf\n",
       "0      1  12245.134205\n",
       "1      2  29755.519714\n",
       "2      3  17591.317564\n",
       "3      4  10781.670837\n",
       "4      5  24545.681680\n",
       "5      6  12610.595440\n",
       "6      7  11773.560352\n",
       "7      8  12660.356955\n",
       "8      9  32088.449081\n",
       "9     10   8753.327469"
      ]
     },
     "execution_count": 70,
     "metadata": {},
     "output_type": "execute_result"
    }
   ],
   "source": [
    "rgtest_df=pd.DataFrame({'Region': reg_name, 'Ave MMcf': reg_CCmf})\n",
    "rgtest_df"
   ]
  },
  {
   "cell_type": "code",
   "execution_count": 78,
   "metadata": {},
   "outputs": [
    {
     "data": {
      "image/png": "[encoded data removed]",
      "text/plain": [
       "<Figure size 432x288 with 1 Axes>"
      ]
     },
     "metadata": {
      "needs_background": "light"
     },
     "output_type": "display_data"
    }
   ],
   "source": [
    "plt.bar(reg_name, reg_CCmf, color=[\"lightslategrey\",\"tab:brown\",\"darkgoldenrod\",\"#CCCC00\",\"darkseagreen\",\"orange\",\"cornflowerblue\",'tan','lightskyblue','#ecb7bf'])\n",
    "plt.ylabel('Ave MMcf')\n",
    "plt.xlabel('Region')\n",
    "plt.title(\"Regional Gas Consumption\")\n",
    "plt.show()"
   ]
  },
  {
   "cell_type": "code",
   "execution_count": 75,
   "metadata": {},
   "outputs": [
    {
     "data": {
      "text/plain": [
       "Text(0, 0.5, 'MMcf')"
      ]
     },
     "execution_count": 75,
     "metadata": {},
     "output_type": "execute_result"
    },
    {
     "data": {
      "image/png": "[encoded data removed]",
      "text/plain": [
       "<Figure size 432x288 with 1 Axes>"
      ]
     },
     "metadata": {
      "needs_background": "light"
     },
     "output_type": "display_data"
    }
   ],
   "source": [
    "# matplot worked better than pandas \n",
    "\n",
    "# reg_graph=rgtest_df.plot.bar(legend=False,title =\" Regional Gas Consumption\", rot=0, color=[\"lightslategrey\",\"tab:brown\",\"darkgoldenrod\",\"#CCCC00\",\"darkseasgreen\",\"orange\",\"cornflowerblue\",'tan','lightskyblue','#ecb7bf'])\n",
    "# reg_graph.set_xlabel(\"Standard Federal Regions\")\n",
    "# reg_graph.set_ylabel(\"MMcf\")\n",
    "\n"
   ]
  },
  {
   "cell_type": "code",
   "execution_count": 28,
   "metadata": {},
   "outputs": [],
   "source": [
    "# region_data= pd.DataFrame({'I': [reg_I_gas],\n",
    "#                'II': [reg_II_gas],\n",
    "#                'III': [reg_III_gas],\n",
    "#                'IV': [reg_IV_gas],\n",
    "#                'V': [reg_V_gas],\n",
    "#                'VI': [reg_VI_gas],\n",
    "#                'VII': [reg_VII_gas],\n",
    "#                'VIII': [reg_VIII_gas],\n",
    "#                'IX': [reg_IX_gas],\n",
    "#                'X': [reg_X_gas]})"
   ]
  },
  {
   "cell_type": "code",
   "execution_count": 29,
   "metadata": {},
   "outputs": [
    {
     "data": {
      "text/html": [
       "<div>\n",
       "<style scoped>\n",
       "    .dataframe tbody tr th:only-of-type {\n",
       "        vertical-align: middle;\n",
       "    }\n",
       "\n",
       "    .dataframe tbody tr th {\n",
       "        vertical-align: top;\n",
       "    }\n",
       "\n",
       "    .dataframe thead th {\n",
       "        text-align: right;\n",
       "    }\n",
       "</style>\n",
       "<table border=\"1\" class=\"dataframe\">\n",
       "  <thead>\n",
       "    <tr style=\"text-align: right;\">\n",
       "      <th></th>\n",
       "      <th>I</th>\n",
       "      <th>II</th>\n",
       "      <th>III</th>\n",
       "      <th>IV</th>\n",
       "      <th>V</th>\n",
       "      <th>VI</th>\n",
       "      <th>VII</th>\n",
       "      <th>VIII</th>\n",
       "      <th>IX</th>\n",
       "      <th>X</th>\n",
       "    </tr>\n",
       "  </thead>\n",
       "  <tbody>\n",
       "    <tr>\n",
       "      <th>0</th>\n",
       "      <td>12245.134205</td>\n",
       "      <td>29755.519714</td>\n",
       "      <td>17591.317564</td>\n",
       "      <td>10781.670837</td>\n",
       "      <td>24545.68168</td>\n",
       "      <td>12610.59544</td>\n",
       "      <td>11773.560352</td>\n",
       "      <td>12660.356955</td>\n",
       "      <td>32088.449081</td>\n",
       "      <td>8753.327469</td>\n",
       "    </tr>\n",
       "  </tbody>\n",
       "</table>\n",
       "</div>"
      ],
      "text/plain": [
       "              I            II           III            IV            V  \\\n",
       "0  12245.134205  29755.519714  17591.317564  10781.670837  24545.68168   \n",
       "\n",
       "            VI           VII          VIII            IX            X  \n",
       "0  12610.59544  11773.560352  12660.356955  32088.449081  8753.327469  "
      ]
     },
     "execution_count": 29,
     "metadata": {},
     "output_type": "execute_result"
    }
   ],
   "source": [
    "# region_data.head()"
   ]
  },
  {
   "cell_type": "code",
   "execution_count": 30,
   "metadata": {},
   "outputs": [
    {
     "data": {
      "text/html": [
       "<div>\n",
       "<style scoped>\n",
       "    .dataframe tbody tr th:only-of-type {\n",
       "        vertical-align: middle;\n",
       "    }\n",
       "\n",
       "    .dataframe tbody tr th {\n",
       "        vertical-align: top;\n",
       "    }\n",
       "\n",
       "    .dataframe thead th {\n",
       "        text-align: right;\n",
       "    }\n",
       "</style>\n",
       "<table border=\"1\" class=\"dataframe\">\n",
       "  <thead>\n",
       "    <tr style=\"text-align: right;\">\n",
       "      <th></th>\n",
       "      <th>0</th>\n",
       "    </tr>\n",
       "  </thead>\n",
       "  <tbody>\n",
       "    <tr>\n",
       "      <th>I</th>\n",
       "      <td>12245.134205</td>\n",
       "    </tr>\n",
       "    <tr>\n",
       "      <th>II</th>\n",
       "      <td>29755.519714</td>\n",
       "    </tr>\n",
       "    <tr>\n",
       "      <th>III</th>\n",
       "      <td>17591.317564</td>\n",
       "    </tr>\n",
       "    <tr>\n",
       "      <th>IV</th>\n",
       "      <td>10781.670837</td>\n",
       "    </tr>\n",
       "    <tr>\n",
       "      <th>V</th>\n",
       "      <td>24545.681680</td>\n",
       "    </tr>\n",
       "    <tr>\n",
       "      <th>VI</th>\n",
       "      <td>12610.595440</td>\n",
       "    </tr>\n",
       "    <tr>\n",
       "      <th>VII</th>\n",
       "      <td>11773.560352</td>\n",
       "    </tr>\n",
       "    <tr>\n",
       "      <th>VIII</th>\n",
       "      <td>12660.356955</td>\n",
       "    </tr>\n",
       "    <tr>\n",
       "      <th>IX</th>\n",
       "      <td>32088.449081</td>\n",
       "    </tr>\n",
       "    <tr>\n",
       "      <th>X</th>\n",
       "      <td>8753.327469</td>\n",
       "    </tr>\n",
       "  </tbody>\n",
       "</table>\n",
       "</div>"
      ],
      "text/plain": [
       "                 0\n",
       "I     12245.134205\n",
       "II    29755.519714\n",
       "III   17591.317564\n",
       "IV    10781.670837\n",
       "V     24545.681680\n",
       "VI    12610.595440\n",
       "VII   11773.560352\n",
       "VIII  12660.356955\n",
       "IX    32088.449081\n",
       "X      8753.327469"
      ]
     },
     "execution_count": 30,
     "metadata": {},
     "output_type": "execute_result"
    }
   ],
   "source": [
    "# T_region_data=region_data.T\n",
    "# T_region_data"
   ]
  },
  {
   "cell_type": "code",
   "execution_count": 79,
   "metadata": {},
   "outputs": [],
   "source": [
    "# region_graph=T_region_data.plot.bar(title =\" Regional Gas Consumption\", rot=0, color=[\"lightslategrey\",\"tab:brown\",\"darkgoldenrod\",\"#CCCC00\",\"darkseasgreen\",\"orange\",\"cornflowerblue\",'tan','lightskyblue','#ecb7bf'])\n",
    "# region_graph.set_xlabel(\"Standard Federal Regions\")\n",
    "# region_graph.set_ylabel(\"MMcf\")\n",
    "\n"
   ]
  },
  {
   "cell_type": "code",
   "execution_count": 80,
   "metadata": {},
   "outputs": [],
   "source": [
    "#Region IX: Arizona, California, Hawaii, Nevada, American Samoa, Guam, Northern Mariana Islands most consumption\n",
    "    #Only have Arizona and California in our set. \n",
    "#Region X: Alaska, Idaho, Oregon, Washington least consumption\n",
    "    #Alaska not included in this set. "
   ]
  },
  {
   "cell_type": "code",
   "execution_count": 81,
   "metadata": {},
   "outputs": [],
   "source": [
    "# looking at gas consumption by season"
   ]
  },
  {
   "cell_type": "code",
   "execution_count": 82,
   "metadata": {},
   "outputs": [
    {
     "data": {
      "text/html": [
       "<div>\n",
       "<style scoped>\n",
       "    .dataframe tbody tr th:only-of-type {\n",
       "        vertical-align: middle;\n",
       "    }\n",
       "\n",
       "    .dataframe tbody tr th {\n",
       "        vertical-align: top;\n",
       "    }\n",
       "\n",
       "    .dataframe thead th {\n",
       "        text-align: right;\n",
       "    }\n",
       "</style>\n",
       "<table border=\"1\" class=\"dataframe\">\n",
       "  <thead>\n",
       "    <tr style=\"text-align: right;\">\n",
       "      <th></th>\n",
       "      <th>Date</th>\n",
       "      <th>State</th>\n",
       "      <th>Average Temperature</th>\n",
       "      <th>Anomaly</th>\n",
       "      <th>Natural Gas Consumption (MMcf)</th>\n",
       "      <th>Month</th>\n",
       "      <th>Year</th>\n",
       "    </tr>\n",
       "  </thead>\n",
       "  <tbody>\n",
       "    <tr>\n",
       "      <th>120</th>\n",
       "      <td>Jan-10</td>\n",
       "      <td>Alabama</td>\n",
       "      <td>40.0</td>\n",
       "      <td>-4.9</td>\n",
       "      <td>9202.647</td>\n",
       "      <td>Jan</td>\n",
       "      <td>10</td>\n",
       "    </tr>\n",
       "    <tr>\n",
       "      <th>121</th>\n",
       "      <td>Feb-10</td>\n",
       "      <td>Alabama</td>\n",
       "      <td>40.6</td>\n",
       "      <td>-9.2</td>\n",
       "      <td>7762.261</td>\n",
       "      <td>Feb</td>\n",
       "      <td>10</td>\n",
       "    </tr>\n",
       "    <tr>\n",
       "      <th>122</th>\n",
       "      <td>Mar-10</td>\n",
       "      <td>Alabama</td>\n",
       "      <td>51.2</td>\n",
       "      <td>-5.0</td>\n",
       "      <td>6612.051</td>\n",
       "      <td>Mar</td>\n",
       "      <td>10</td>\n",
       "    </tr>\n",
       "    <tr>\n",
       "      <th>131</th>\n",
       "      <td>Dec-10</td>\n",
       "      <td>Alabama</td>\n",
       "      <td>40.3</td>\n",
       "      <td>-9.0</td>\n",
       "      <td>7970.435</td>\n",
       "      <td>Dec</td>\n",
       "      <td>10</td>\n",
       "    </tr>\n",
       "    <tr>\n",
       "      <th>132</th>\n",
       "      <td>Jan-11</td>\n",
       "      <td>Alabama</td>\n",
       "      <td>41.1</td>\n",
       "      <td>-3.8</td>\n",
       "      <td>9951.178</td>\n",
       "      <td>Jan</td>\n",
       "      <td>11</td>\n",
       "    </tr>\n",
       "    <tr>\n",
       "      <th>...</th>\n",
       "      <td>...</td>\n",
       "      <td>...</td>\n",
       "      <td>...</td>\n",
       "      <td>...</td>\n",
       "      <td>...</td>\n",
       "      <td>...</td>\n",
       "      <td>...</td>\n",
       "    </tr>\n",
       "    <tr>\n",
       "      <th>11559</th>\n",
       "      <td>May-19</td>\n",
       "      <td>Wisconsin</td>\n",
       "      <td>51.8</td>\n",
       "      <td>-4.4</td>\n",
       "      <td>7050.223</td>\n",
       "      <td>May</td>\n",
       "      <td>19</td>\n",
       "    </tr>\n",
       "    <tr>\n",
       "      <th>11564</th>\n",
       "      <td>Oct-19</td>\n",
       "      <td>Wisconsin</td>\n",
       "      <td>45.0</td>\n",
       "      <td>-2.4</td>\n",
       "      <td>9003.976</td>\n",
       "      <td>Oct</td>\n",
       "      <td>19</td>\n",
       "    </tr>\n",
       "    <tr>\n",
       "      <th>11565</th>\n",
       "      <td>Nov-19</td>\n",
       "      <td>Wisconsin</td>\n",
       "      <td>28.2</td>\n",
       "      <td>-4.8</td>\n",
       "      <td>19033.545</td>\n",
       "      <td>Nov</td>\n",
       "      <td>19</td>\n",
       "    </tr>\n",
       "    <tr>\n",
       "      <th>11566</th>\n",
       "      <td>Dec-19</td>\n",
       "      <td>Wisconsin</td>\n",
       "      <td>23.5</td>\n",
       "      <td>1.4</td>\n",
       "      <td>21240.594</td>\n",
       "      <td>Dec</td>\n",
       "      <td>19</td>\n",
       "    </tr>\n",
       "    <tr>\n",
       "      <th>11567</th>\n",
       "      <td>Jan-20</td>\n",
       "      <td>Wisconsin</td>\n",
       "      <td>21.6</td>\n",
       "      <td>6.0</td>\n",
       "      <td>22909.245</td>\n",
       "      <td>Jan</td>\n",
       "      <td>20</td>\n",
       "    </tr>\n",
       "  </tbody>\n",
       "</table>\n",
       "<p>2247 rows × 7 columns</p>\n",
       "</div>"
      ],
      "text/plain": [
       "         Date      State   Average Temperature  Anomaly  \\\n",
       "120    Jan-10    Alabama                  40.0     -4.9   \n",
       "121    Feb-10    Alabama                  40.6     -9.2   \n",
       "122    Mar-10    Alabama                  51.2     -5.0   \n",
       "131    Dec-10    Alabama                  40.3     -9.0   \n",
       "132    Jan-11    Alabama                  41.1     -3.8   \n",
       "...       ...        ...                   ...      ...   \n",
       "11559  May-19  Wisconsin                  51.8     -4.4   \n",
       "11564  Oct-19  Wisconsin                  45.0     -2.4   \n",
       "11565  Nov-19  Wisconsin                  28.2     -4.8   \n",
       "11566  Dec-19  Wisconsin                  23.5      1.4   \n",
       "11567  Jan-20  Wisconsin                  21.6      6.0   \n",
       "\n",
       "       Natural Gas Consumption (MMcf) Month Year  \n",
       "120                          9202.647   Jan   10  \n",
       "121                          7762.261   Feb   10  \n",
       "122                          6612.051   Mar   10  \n",
       "131                          7970.435   Dec   10  \n",
       "132                          9951.178   Jan   11  \n",
       "...                               ...   ...  ...  \n",
       "11559                        7050.223   May   19  \n",
       "11564                        9003.976   Oct   19  \n",
       "11565                       19033.545   Nov   19  \n",
       "11566                       21240.594   Dec   19  \n",
       "11567                       22909.245   Jan   20  \n",
       "\n",
       "[2247 rows x 7 columns]"
      ]
     },
     "execution_count": 82,
     "metadata": {},
     "output_type": "execute_result"
    }
   ],
   "source": [
    "gas_states[['Month', 'Year']]= gas_states.Date.str.split(\"-\",expand=True)\n",
    "gas_states"
   ]
  },
  {
   "cell_type": "code",
   "execution_count": 83,
   "metadata": {},
   "outputs": [],
   "source": [
    "spring_loc= gas_states.loc[(gas_states['Month']== 'Mar')|(gas_states['Month']== 'April')|(gas_states['Month']== 'May')]"
   ]
  },
  {
   "cell_type": "code",
   "execution_count": 84,
   "metadata": {},
   "outputs": [],
   "source": [
    "summer_loc=  gas_states.loc[(gas_states['Month']== 'Jun')|(gas_states['Month']== 'Jul')|(gas_states['Month']== 'Aug')]"
   ]
  },
  {
   "cell_type": "code",
   "execution_count": 85,
   "metadata": {},
   "outputs": [],
   "source": [
    "fall_loc=  gas_states.loc[(gas_states['Month']== 'Sep')|(gas_states['Month']== 'Oct')|(gas_states['Month']== 'Nov')]"
   ]
  },
  {
   "cell_type": "code",
   "execution_count": 86,
   "metadata": {},
   "outputs": [],
   "source": [
    "winter_loc=  gas_states.loc[(gas_states['Month']== 'Dec')|(gas_states['Month']== 'Jan')|(gas_states['Month']== 'Feb')]"
   ]
  },
  {
   "cell_type": "code",
   "execution_count": 87,
   "metadata": {},
   "outputs": [],
   "source": [
    "spring = spring_loc['Natural Gas Consumption (MMcf)'].mean()\n",
    "summer = summer_loc['Natural Gas Consumption (MMcf)'].mean()\n",
    "fall = fall_loc['Natural Gas Consumption (MMcf)'].mean()\n",
    "winter = winter_loc['Natural Gas Consumption (MMcf)'].mean()"
   ]
  },
  {
   "cell_type": "code",
   "execution_count": 88,
   "metadata": {},
   "outputs": [],
   "source": [
    "season_name=(\"Spring\",\"Summer\",\"Fall\",\"Winter\")\n",
    "season_MMcf=([spring, summer, fall, winter])\n"
   ]
  },
  {
   "cell_type": "code",
   "execution_count": 89,
   "metadata": {},
   "outputs": [
    {
     "data": {
      "text/html": [
       "<div>\n",
       "<style scoped>\n",
       "    .dataframe tbody tr th:only-of-type {\n",
       "        vertical-align: middle;\n",
       "    }\n",
       "\n",
       "    .dataframe tbody tr th {\n",
       "        vertical-align: top;\n",
       "    }\n",
       "\n",
       "    .dataframe thead th {\n",
       "        text-align: right;\n",
       "    }\n",
       "</style>\n",
       "<table border=\"1\" class=\"dataframe\">\n",
       "  <thead>\n",
       "    <tr style=\"text-align: right;\">\n",
       "      <th></th>\n",
       "      <th>Season</th>\n",
       "      <th>Ave MMcF</th>\n",
       "    </tr>\n",
       "  </thead>\n",
       "  <tbody>\n",
       "    <tr>\n",
       "      <th>0</th>\n",
       "      <td>Spring</td>\n",
       "      <td>17439.578795</td>\n",
       "    </tr>\n",
       "    <tr>\n",
       "      <th>1</th>\n",
       "      <td>Summer</td>\n",
       "      <td>9639.897877</td>\n",
       "    </tr>\n",
       "    <tr>\n",
       "      <th>2</th>\n",
       "      <td>Fall</td>\n",
       "      <td>14312.825116</td>\n",
       "    </tr>\n",
       "    <tr>\n",
       "      <th>3</th>\n",
       "      <td>Winter</td>\n",
       "      <td>22429.310633</td>\n",
       "    </tr>\n",
       "  </tbody>\n",
       "</table>\n",
       "</div>"
      ],
      "text/plain": [
       "   Season      Ave MMcF\n",
       "0  Spring  17439.578795\n",
       "1  Summer   9639.897877\n",
       "2    Fall  14312.825116\n",
       "3  Winter  22429.310633"
      ]
     },
     "execution_count": 89,
     "metadata": {},
     "output_type": "execute_result"
    }
   ],
   "source": [
    "season_df= pd.DataFrame({\"Season\":season_name,\"Ave MMcF\":season_MMcf})\n",
    "season_df"
   ]
  },
  {
   "cell_type": "code",
   "execution_count": 90,
   "metadata": {},
   "outputs": [
    {
     "data": {
      "text/plain": [
       "[Text(0, 0, 'Spring'),\n",
       " Text(1, 0, 'Summer'),\n",
       " Text(2, 0, 'Fall'),\n",
       " Text(3, 0, 'Winter')]"
      ]
     },
     "execution_count": 90,
     "metadata": {},
     "output_type": "execute_result"
    },
    {
     "data": {
      "image/png": "[encoded data removed]",
      "text/plain": [
       "<Figure size 432x288 with 1 Axes>"
      ]
     },
     "metadata": {
      "needs_background": "light"
     },
     "output_type": "display_data"
    }
   ],
   "source": [
    "season_bar= season_df.plot.bar(legend=False, title= \"Seasonal Gas Consumption\",rot=0)\n",
    "season_bar.set_xlabel(\"Seasons\")\n",
    "season_bar.set_ylabel(\"MMcF\")\n",
    "season_bar.set_xticklabels(season_name)"
   ]
  },
  {
   "cell_type": "code",
   "execution_count": 91,
   "metadata": {},
   "outputs": [],
   "source": [
    "#doing groubpy for boxplot\n",
    "\n",
    "spring_box_data = spring_loc['Natural Gas Consumption (MMcf)']\n",
    "summer_box_data = summer_loc['Natural Gas Consumption (MMcf)']\n",
    "fall_box_data = fall_loc['Natural Gas Consumption (MMcf)']\n",
    "winter_box_data = winter_loc['Natural Gas Consumption (MMcf)']"
   ]
  },
  {
   "cell_type": "code",
   "execution_count": 92,
   "metadata": {},
   "outputs": [
    {
     "data": {
      "text/html": [
       "<div>\n",
       "<style scoped>\n",
       "    .dataframe tbody tr th:only-of-type {\n",
       "        vertical-align: middle;\n",
       "    }\n",
       "\n",
       "    .dataframe tbody tr th {\n",
       "        vertical-align: top;\n",
       "    }\n",
       "\n",
       "    .dataframe thead th {\n",
       "        text-align: right;\n",
       "    }\n",
       "</style>\n",
       "<table border=\"1\" class=\"dataframe\">\n",
       "  <thead>\n",
       "    <tr style=\"text-align: right;\">\n",
       "      <th></th>\n",
       "      <th>Spring</th>\n",
       "      <th>Summer</th>\n",
       "      <th>Fall</th>\n",
       "      <th>Winter</th>\n",
       "    </tr>\n",
       "  </thead>\n",
       "  <tbody>\n",
       "    <tr>\n",
       "      <th>120</th>\n",
       "      <td></td>\n",
       "      <td></td>\n",
       "      <td></td>\n",
       "      <td>9202.65</td>\n",
       "    </tr>\n",
       "    <tr>\n",
       "      <th>121</th>\n",
       "      <td></td>\n",
       "      <td></td>\n",
       "      <td></td>\n",
       "      <td>7762.26</td>\n",
       "    </tr>\n",
       "    <tr>\n",
       "      <th>122</th>\n",
       "      <td>6612.05</td>\n",
       "      <td></td>\n",
       "      <td></td>\n",
       "      <td></td>\n",
       "    </tr>\n",
       "    <tr>\n",
       "      <th>131</th>\n",
       "      <td></td>\n",
       "      <td></td>\n",
       "      <td></td>\n",
       "      <td>7970.44</td>\n",
       "    </tr>\n",
       "    <tr>\n",
       "      <th>132</th>\n",
       "      <td></td>\n",
       "      <td></td>\n",
       "      <td></td>\n",
       "      <td>9951.18</td>\n",
       "    </tr>\n",
       "    <tr>\n",
       "      <th>...</th>\n",
       "      <td>...</td>\n",
       "      <td>...</td>\n",
       "      <td>...</td>\n",
       "      <td>...</td>\n",
       "    </tr>\n",
       "    <tr>\n",
       "      <th>11559</th>\n",
       "      <td>7050.22</td>\n",
       "      <td></td>\n",
       "      <td></td>\n",
       "      <td></td>\n",
       "    </tr>\n",
       "    <tr>\n",
       "      <th>11564</th>\n",
       "      <td></td>\n",
       "      <td></td>\n",
       "      <td>9003.98</td>\n",
       "      <td></td>\n",
       "    </tr>\n",
       "    <tr>\n",
       "      <th>11565</th>\n",
       "      <td></td>\n",
       "      <td></td>\n",
       "      <td>19033.5</td>\n",
       "      <td></td>\n",
       "    </tr>\n",
       "    <tr>\n",
       "      <th>11566</th>\n",
       "      <td></td>\n",
       "      <td></td>\n",
       "      <td></td>\n",
       "      <td>21240.6</td>\n",
       "    </tr>\n",
       "    <tr>\n",
       "      <th>11567</th>\n",
       "      <td></td>\n",
       "      <td></td>\n",
       "      <td></td>\n",
       "      <td>22909.2</td>\n",
       "    </tr>\n",
       "  </tbody>\n",
       "</table>\n",
       "<p>2069 rows × 4 columns</p>\n",
       "</div>"
      ],
      "text/plain": [
       "        Spring Summer     Fall   Winter\n",
       "120                             9202.65\n",
       "121                             7762.26\n",
       "122    6612.05                         \n",
       "131                             7970.44\n",
       "132                             9951.18\n",
       "...        ...    ...      ...      ...\n",
       "11559  7050.22                         \n",
       "11564                  9003.98         \n",
       "11565                  19033.5         \n",
       "11566                           21240.6\n",
       "11567                           22909.2\n",
       "\n",
       "[2069 rows x 4 columns]"
      ]
     },
     "execution_count": 92,
     "metadata": {},
     "output_type": "execute_result"
    }
   ],
   "source": [
    "ss_box_df= pd.DataFrame({\"Spring\":spring_box_data, \"Summer\":summer_box_data, \"Fall\": fall_box_data, \"Winter\": winter_box_data})\n",
    "ss_box_df.fillna(\" \")"
   ]
  },
  {
   "cell_type": "code",
   "execution_count": 45,
   "metadata": {
    "scrolled": true
   },
   "outputs": [
    {
     "data": {
      "text/plain": [
       "Text(0, 0.5, 'MMcf')"
      ]
     },
     "execution_count": 45,
     "metadata": {},
     "output_type": "execute_result"
    },
    {
     "data": {
      "image/png": "[encoded data removed]",
      "text/plain": [
       "<Figure size 432x288 with 1 Axes>"
      ]
     },
     "metadata": {
      "needs_background": "light"
     },
     "output_type": "display_data"
    }
   ],
   "source": [
    "season_box=ss_box_df.boxplot()\n",
    "season_box.set_title(\"Seasonal Gas Consumption\")\n",
    "season_box.set_xlabel(\"Season\")\n",
    "season_box.set_ylabel(\"MMcf\")"
   ]
  },
  {
   "cell_type": "code",
   "execution_count": 46,
   "metadata": {},
   "outputs": [],
   "source": [
    "# gas_states.loc[original_df['last_name'] == 'Hudson',['Best']] = 'nick'\n",
    "\n"
   ]
  },
  {
   "cell_type": "code",
   "execution_count": 47,
   "metadata": {},
   "outputs": [],
   "source": [
    "#bottom states ave\n",
    "ct1=gas_states.loc[(gas_states['State']== 'Connecticut')]['Natural Gas Consumption (MMcf)'].mean()\n",
    "nj1=gas_states.loc[(gas_states['State']== 'New Jersey')]['Natural Gas Consumption (MMcf)'].mean()\n",
    "md1=gas_states.loc[(gas_states['State']== 'Maryland')]['Natural Gas Consumption (MMcf)'].mean()\n",
    "ab1=gas_states.loc[(gas_states['State']== 'Alabama')]['Natural Gas Consumption (MMcf)'].mean()\n",
    "il1=gas_states.loc[(gas_states['State']== 'Illinois')]['Natural Gas Consumption (MMcf)'].mean()\n",
    "ak1=gas_states.loc[(gas_states['State']== 'Arkansas')]['Natural Gas Consumption (MMcf)'].mean()\n",
    "ia1=gas_states.loc[(gas_states['State']== 'Iowa')]['Natural Gas Consumption (MMcf)'].mean()\n",
    "co1=gas_states.loc[(gas_states['State']== 'Colorado')]['Natural Gas Consumption (MMcf)'].mean()\n",
    "az1=gas_states.loc[(gas_states['State']== 'Arizona')]['Natural Gas Consumption (MMcf)'].mean()\n",
    "id1=gas_states.loc[(gas_states['State']== 'Idaho')]['Natural Gas Consumption (MMcf)'].mean()"
   ]
  },
  {
   "cell_type": "code",
   "execution_count": 48,
   "metadata": {},
   "outputs": [],
   "source": [
    "#2state\n",
    "ma2=gas_states.loc[(gas_states['State']== 'Massachusetts')]['Natural Gas Consumption (MMcf)'].mean()\n",
    "ny2=gas_states.loc[(gas_states['State']== 'New York')]['Natural Gas Consumption (MMcf)'].mean()\n",
    "pn2=gas_states.loc[(gas_states['State']== 'Pennsylvania')]['Natural Gas Consumption (MMcf)'].mean()\n",
    "ga2=gas_states.loc[(gas_states['State']== 'Georgia')]['Natural Gas Consumption (MMcf)'].mean()\n",
    "in2=gas_states.loc[(gas_states['State']== 'Indiana')]['Natural Gas Consumption (MMcf)'].mean()\n",
    "la2=gas_states.loc[(gas_states['State']== 'Louisiana')]['Natural Gas Consumption (MMcf)'].mean()\n",
    "ks2=gas_states.loc[(gas_states['State']== 'Kansas')]['Natural Gas Consumption (MMcf)'].mean()\n",
    "ut2=gas_states.loc[(gas_states['State']== 'Utah')]['Natural Gas Consumption (MMcf)'].mean()\n",
    "ca2=gas_states.loc[(gas_states['State']== 'California')]['Natural Gas Consumption (MMcf)'].mean()\n",
    "or2=gas_states.loc[(gas_states['State']== 'Oregon')]['Natural Gas Consumption (MMcf)'].mean()"
   ]
  },
  {
   "cell_type": "code",
   "execution_count": 49,
   "metadata": {},
   "outputs": [],
   "source": [
    "#3rd state\n",
    "r1=0\n",
    "r2=0\n",
    "va3=gas_states.loc[(gas_states['State']== 'Virginia')]['Natural Gas Consumption (MMcf)'].mean()\n",
    "ky3=gas_states.loc[(gas_states['State']== 'Kentucky')]['Natural Gas Consumption (MMcf)'].mean()\n",
    "mi3=gas_states.loc[(gas_states['State']== 'Michigan')]['Natural Gas Consumption (MMcf)'].mean()\n",
    "nm3=gas_states.loc[(gas_states['State']== 'New Mexico')]['Natural Gas Consumption (MMcf)'].mean()\n",
    "mo3=gas_states.loc[(gas_states['State']== 'Missouri')]['Natural Gas Consumption (MMcf)'].mean()\n",
    "r8=0\n",
    "r9=0\n",
    "wa3=gas_states.loc[(gas_states['State']== 'Washington')]['Natural Gas Consumption (MMcf)'].mean()"
   ]
  },
  {
   "cell_type": "code",
   "execution_count": 50,
   "metadata": {},
   "outputs": [],
   "source": [
    "r1=0\n",
    "r2=0\n",
    "r3=0\n",
    "r4=0\n",
    "r5=0\n",
    "r6=0\n",
    "r7=0\n",
    "r8=0\n",
    "r9=0\n",
    "r10=0 "
   ]
  },
  {
   "cell_type": "code",
   "execution_count": 51,
   "metadata": {},
   "outputs": [],
   "source": [
    "#region 4 \n",
    "#4state\n",
    "ms4=gas_states.loc[(gas_states['State']== 'Mississippi')]['Natural Gas Consumption (MMcf)'].mean()\n",
    "nc5=gas_states.loc[(gas_states['State']== 'North Carolina')]['Natural Gas Consumption (MMcf)'].mean() \n",
    "sc6=gas_states.loc[(gas_states['State']== 'South Carolina')]['Natural Gas Consumption (MMcf)'].mean()\n",
    "tn7=gas_states.loc[(gas_states['State']=='Tennessee')]['Natural Gas Consumption (MMcf)'].mean()"
   ]
  },
  {
   "cell_type": "code",
   "execution_count": 52,
   "metadata": {},
   "outputs": [],
   "source": [
    "#region 5 \n",
    "mi4= gas_states.loc[(gas_states['State']=='Minnesota')]['Natural Gas Consumption (MMcf)'].mean()\n",
    "oh5=gas_states.loc[(gas_states['State']=='Ohio')]['Natural Gas Consumption (MMcf)'].mean()\n",
    "wi6= gas_states.loc[(gas_states['State']== 'Wisconsin')]['Natural Gas Consumption (MMcf)'].mean()"
   ]
  },
  {
   "cell_type": "code",
   "execution_count": 53,
   "metadata": {},
   "outputs": [],
   "source": [
    "#region 6 \n",
    "ok4=gas_states.loc[(gas_states['State']=='Oklahoma')]['Natural Gas Consumption (MMcf)'].mean()\n",
    "tx5=gas_states.loc[(gas_states['State']=='Texas')]['Natural Gas Consumption (MMcf)'].mean()"
   ]
  },
  {
   "cell_type": "code",
   "execution_count": 54,
   "metadata": {},
   "outputs": [],
   "source": [
    "#Attempting a stacked bar chart for regional consumption \n",
    "\n",
    "rg_1=[ct1,ma2,r3,r4,r5,r6,r7]\n",
    "rg_2=[nj1,ny2,r3,r4,r5,r6,r7]\n",
    "rg_3=[md1,pn2,va3,r4,r5,r6,r7]\n",
    "rg_4=[ab1,ga2,ky3,ms4,nc5,sc6,tn7]\n",
    "rg_5=[il1,in2,mi3,mi4,oh5,wi6,r7]\n",
    "rg_6=[ak1,la2,nm3,ok4,tx5,r6,r7]\n",
    "rg_7=[ia1,ks2,mo3,r4,r5,r6,r7]\n",
    "rg_8=[co1,ut2,r3,r4,r5,r6,r7]\n",
    "rg_9=[az1,ca2,r3,r4,r5,r6,r7]\n",
    "rg_10=[id1,or2,wa3,r4,r5,r6,r7]"
   ]
  },
  {
   "cell_type": "code",
   "execution_count": 55,
   "metadata": {},
   "outputs": [],
   "source": [
    "import numpy as np\n",
    "import matplotlib.pyplot as plt\n"
   ]
  },
  {
   "cell_type": "code",
   "execution_count": 56,
   "metadata": {},
   "outputs": [],
   "source": [
    "plot_data=np.array([[ct1,nj1,md1,ab1,il1,ak1,ia1,co1,az1,id1],\n",
    "                   [ma2,ny2,pn2,ga2,in2,la2,ks2,ut2,ca2,or2],\n",
    "                   [va3,ky3,mi3,nm3,mo3,r8,r9,wa3,r1,r2],\n",
    "                   [ms4,mi4,ok4,r7,r8,r9,r10,r1,r2,r3],\n",
    "                   [nc5,oh5,tx5,r7,r8,r9,r10,r1,r2,r3],\n",
    "                   [sc6,wi6,r6,r7,r8,r9,r10,r1,r2,r3],\n",
    "                   [tn7,r5,r6,r7,r8,r9,r10,r1,r2,r3]])"
   ]
  },
  {
   "cell_type": "code",
   "execution_count": 57,
   "metadata": {},
   "outputs": [],
   "source": [
    "color_list=['purple','mediumseagreen','#C34C8E','darkorange','#0073FF','gold','crimson']"
   ]
  },
  {
   "cell_type": "code",
   "execution_count": 58,
   "metadata": {},
   "outputs": [
    {
     "ename": "NameError",
     "evalue": "name 'data' is not defined",
     "output_type": "error",
     "traceback": [
      "\u001b[1;31m---------------------------------------------------------------------------\u001b[0m",
      "\u001b[1;31mNameError\u001b[0m                                 Traceback (most recent call last)",
      "\u001b[1;32m<ipython-input-58-dcb94abc9127>\u001b[0m in \u001b[0;36m<module>\u001b[1;34m\u001b[0m\n\u001b[0;32m      1\u001b[0m \u001b[0mx\u001b[0m\u001b[1;33m=\u001b[0m \u001b[0mnp\u001b[0m\u001b[1;33m.\u001b[0m\u001b[0marange\u001b[0m\u001b[1;33m(\u001b[0m\u001b[0mplot_data\u001b[0m\u001b[1;33m.\u001b[0m\u001b[0mshape\u001b[0m\u001b[1;33m[\u001b[0m\u001b[1;36m1\u001b[0m\u001b[1;33m]\u001b[0m\u001b[1;33m)\u001b[0m\u001b[1;33m\u001b[0m\u001b[1;33m\u001b[0m\u001b[0m\n\u001b[0;32m      2\u001b[0m \u001b[1;32mfor\u001b[0m \u001b[0mi\u001b[0m \u001b[1;32min\u001b[0m \u001b[0mrange\u001b[0m\u001b[1;33m(\u001b[0m\u001b[0mplot_data\u001b[0m\u001b[1;33m.\u001b[0m\u001b[0mshape\u001b[0m\u001b[1;33m[\u001b[0m\u001b[1;36m0\u001b[0m\u001b[1;33m]\u001b[0m\u001b[1;33m)\u001b[0m\u001b[1;33m:\u001b[0m\u001b[1;33m\u001b[0m\u001b[1;33m\u001b[0m\u001b[0m\n\u001b[1;32m----> 3\u001b[1;33m     plt.bar(x, data[i],\n\u001b[0m\u001b[0;32m      4\u001b[0m            \u001b[0mbottom\u001b[0m\u001b[1;33m=\u001b[0m\u001b[0mnp\u001b[0m\u001b[1;33m.\u001b[0m\u001b[0msum\u001b[0m\u001b[1;33m(\u001b[0m\u001b[0mplot_data\u001b[0m\u001b[1;33m[\u001b[0m\u001b[1;33m:\u001b[0m\u001b[0mi\u001b[0m\u001b[1;33m]\u001b[0m\u001b[1;33m,\u001b[0m\u001b[0maxis\u001b[0m\u001b[1;33m=\u001b[0m\u001b[1;36m0\u001b[0m\u001b[1;33m)\u001b[0m\u001b[1;33m,\u001b[0m\u001b[1;33m\u001b[0m\u001b[1;33m\u001b[0m\u001b[0m\n\u001b[0;32m      5\u001b[0m            color =color_list[i % len(color_list)])\n",
      "\u001b[1;31mNameError\u001b[0m: name 'data' is not defined"
     ]
    }
   ],
   "source": [
    "x= np.arange(plot_data.shape[1])\n",
    "for i in range(plot_data.shape[0]): \n",
    "    plt.bar(x, data[i],\n",
    "           bottom=np.sum(plot_data[:i],axis=0),\n",
    "           color =color_list[i % len(color_list)])"
   ]
  },
  {
   "cell_type": "code",
   "execution_count": null,
   "metadata": {},
   "outputs": [],
   "source": [
    "\n",
    "r = [0,1,2,3,4,5,6,7,8,9]"
   ]
  },
  {
   "cell_type": "code",
   "execution_count": null,
   "metadata": {},
   "outputs": [],
   "source": [
    "names = ['I','II','III','IV','V','VI','VII','VIII','IX',\"X\"]\n",
    "barWidth = 1"
   ]
  },
  {
   "cell_type": "code",
   "execution_count": null,
   "metadata": {},
   "outputs": [],
   "source": [
    "\n",
    "plt.bar(r, rg_1, color='purple', edgecolor='white', width=barWidth)\n",
    "plt.bar(r, rg_2, bottom=rg_1, color='mediumseagreen', edgecolor='white', width=barWidth)\n",
    "plt.bar(r, rg_3, bottom=rg_1+rg_2, color='#C34C8E', edgecolor='white', width=barWidth)\n",
    "plt.bar(r, rg_4, bottom=rg_1+rg_2+rg_3, color='darkorange', edgecolor='white', width=barWidth)\n",
    "plt.bar(r, rg_5, bottom=rg_1+rg_2+rg_3+rg_4, color='#0073FF', edgecolor='white', width=barWidth)\n",
    "plt.bar(r, rg_6, bottom=rg_1+rg_2+rg_3+rg_4+rg_5, color='gold', edgecolor='white', width=barWidth)\n",
    "plt.bar(r, rg_7, bottom=rg_1+rg_2+rg_3+rg_4+rg_5+rg_6, color='crimson', edgecolor='white', width=barWidth)\n",
    "plt.bar(r, rg_8, bottom=rg_1+rg_2+rg_3+rg_4+rg_5+rg_6+rg_7, color='slategrey', edgecolor='white', width=barWidth)\n",
    "plt.bar(r, rg_9, bottom=rg_1+rg_2+rg_3+rg_4+rg_5+rg_6+rg_7+rg_8, color='darkgreen', edgecolor='white', width=barWidth)\n",
    "plt.bar(r, rg_10, bottom=rg_1+rg_2+rg_3+rg_4+rg_5+rg_6+rg_7+rg_8+rg_9, color='indigo', edgecolor='white', width=barWidth)"
   ]
  },
  {
   "cell_type": "code",
   "execution_count": null,
   "metadata": {},
   "outputs": [],
   "source": [
    "# st_1=[ct1,nj1,md1,ab1,il1,ak1,ia1,co1,az1,id1]\n",
    "# st_2=[ma2,ny2,pn2,ga2,in2,la2,ks2,ut2,ca2,or2]\n",
    "# st_3=[r1,r2,va3,ky3,mi3,nm3,mo3,r8,r9,wa3]\n",
    "# st_4=[r1,r2,r3,ms4,mi4,ok4,r7,r8,r9,r10]\n",
    "# st_5=[r1,r2,r3,nc5,oh5,tx5,r7,r8,r9,r10]\n",
    "# st_6=[r1,r2,r3,sc6,wi6,r6,r7,r8,r9,r10]\n",
    "# st_7=[r1,r2,r3,tn7,r5,r6,r7,r8,r9,r10]"
   ]
  },
  {
   "cell_type": "code",
   "execution_count": null,
   "metadata": {},
   "outputs": [],
   "source": []
  },
  {
   "cell_type": "code",
   "execution_count": null,
   "metadata": {},
   "outputs": [],
   "source": []
  }
 ],
 "metadata": {
  "kernelspec": {
   "display_name": "Python 3",
   "language": "python",
   "name": "python3"
  },
  "language_info": {
   "codemirror_mode": {
    "name": "ipython",
    "version": 3
   },
   "file_extension": ".py",
   "mimetype": "text/x-python",
   "name": "python",
   "nbconvert_exporter": "python",
   "pygments_lexer": "ipython3",
   "version": "3.8.5"
  }
 },
 "nbformat": 4,
 "nbformat_minor": 4
}
